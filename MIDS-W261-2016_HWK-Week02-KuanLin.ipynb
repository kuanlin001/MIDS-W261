{
 "cells": [
  {
   "cell_type": "markdown",
   "metadata": {},
   "source": [
    "# DATSCI W261 ASSIGNMENT 2\n",
    "Section 2<br/>\n",
    "Student: Kuan Lin<br/>\n",
    "Date: 1/23/2016"
   ]
  },
  {
   "cell_type": "markdown",
   "metadata": {},
   "source": [
    "* <b>HW2.0. What is a race condition in the context of parallel computation? Give an example. What is MapReduce? How does it differ from Hadoop? Which programming paradigm is Hadoop based on? Explain and give a simple example in code and show the code running.</b>"
   ]
  },
  {
   "cell_type": "markdown",
   "metadata": {},
   "source": [
    "<p>Race condition occurs when multiple threads or processes attempting to access and write to a shared object.  If no proper synchronization, some threads may retrieve incorrect/staled data while the shared object is being modified by a different thread.  An example would be if multiple threads are trying to increment an integer in a shared memory.  Because integer increment is not atomic, if multiple threads trying to increment the integer simultaneously, one thread may be trying to increment on a staled value, while the actual value has already been modified by a different thread.</p>\n",
    "<p>\n",
    "MapReduce is a programming model that first produces a new sequence of objects by applying a function (map) to an existing sequence of objects, and aggregate results in the newly created sequence (reduce).  The map step is often done in parrallel.<br/>\n",
    "Hadoop is an open source framework consisting of a distributed file system and also an executing engine that can execute codes in a distributed fashion via the MapReduce paradigm.\n",
    "</p>\n",
    "<p>\n",
    "Hadoop is based on functional programming paradigm, which treats computation as mathmatical evaluations and avoid producing side effects and changing object states.  The code block below shows how to calculate sum of squares of a list of integers using functional paradigm.\n",
    "</p>"
   ]
  },
  {
   "cell_type": "code",
   "execution_count": 1,
   "metadata": {
    "collapsed": false
   },
   "outputs": [
    {
     "name": "stdout",
     "output_type": "stream",
     "text": [
      "55\n"
     ]
    }
   ],
   "source": [
    "# MapReduce example\n",
    "# calculating sum of squares with functional programming paradigm\n",
    "\n",
    "input = [1, 2, 3, 4, 5]\n",
    "\n",
    "# map step\n",
    "input_squares = map(lambda x:x**2, input)\n",
    "# reduce step\n",
    "results = reduce(lambda x1,x2:x1+x2, input_squares)\n",
    "\n",
    "print results"
   ]
  },
  {
   "cell_type": "markdown",
   "metadata": {},
   "source": [
    "* <b>HW2.1. Sort in Hadoop MapReduce</b>\n",
    "* Given as input: Records of the form `<integer, “NA”>`, where integer is any integer, and “NA” is just the empty string. Output: sorted key value pairs of the form `<integer, “NA”>` in decreasing order; what happens if you have multiple reducers? Do you need additional steps? Explain.\n",
    "* Write code to generate N  random records of the form `<integer, “NA”>`. Let N = 10,000. Write the python Hadoop streaming map-reduce job to perform this sort. Display the top 10 biggest numbers. Display the 10 smallest numbers\n"
   ]
  },
  {
   "cell_type": "markdown",
   "metadata": {},
   "source": [
    "If we have multiple reducers, we will need one more script to perform merge sort using the output files from all of the reducers.  This is because we do not have control which intermediate key-value pairs is sent to which reducer, and thus each output files may have skipped numbers."
   ]
  },
  {
   "cell_type": "code",
   "execution_count": 9,
   "metadata": {
    "collapsed": false
   },
   "outputs": [
    {
     "name": "stdout",
     "output_type": "stream",
     "text": [
      "Overwriting generateNRandom.py\n"
     ]
    }
   ],
   "source": [
    "%%writefile generateNRandom.py\n",
    "#!/usr/bin/python\n",
    "# Generate N random integers\n",
    "import sys\n",
    "from random import randint\n",
    "\n",
    "writer = open(\"hw2_1.txt\", 'w')\n",
    "N = int(sys.argv[1])\n",
    "# generate N random integers\n",
    "for i in xrange(N):\n",
    "    writer.write(str(randint(0, N)) + '\\n')\n",
    "writer.close()\n",
    "print \"file written\""
   ]
  },
  {
   "cell_type": "code",
   "execution_count": 10,
   "metadata": {
    "collapsed": false
   },
   "outputs": [
    {
     "name": "stdout",
     "output_type": "stream",
     "text": [
      "file written\r\n"
     ]
    }
   ],
   "source": [
    "!chmod +x generateNRandom.py; python generateNRandom.py 10000"
   ]
  },
  {
   "cell_type": "code",
   "execution_count": 2,
   "metadata": {
    "collapsed": false
   },
   "outputs": [],
   "source": [
    "# put the file on hdfs\n",
    "!hdfs dfs -mkdir /w261/hw2;\n",
    "!hdfs dfs -mkdir /w261/hw2/hw2_1;\n",
    "!hdfs dfs -put hw2_1.txt /w261/hw2/hw2_1/hw2_1.txt"
   ]
  },
  {
   "cell_type": "code",
   "execution_count": 18,
   "metadata": {
    "collapsed": false
   },
   "outputs": [
    {
     "name": "stdout",
     "output_type": "stream",
     "text": [
      "Overwriting mapper.py\n"
     ]
    }
   ],
   "source": [
    "%%writefile mapper.py\n",
    "#!/usr/bin/python\n",
    "# no need to do anything in the mapper, just pass along the numbers and let Hadoop do the sorting\n",
    "import sys\n",
    "for line in sys.stdin:    \n",
    "    print \"%s\" % (line.strip())"
   ]
  },
  {
   "cell_type": "code",
   "execution_count": 19,
   "metadata": {
    "collapsed": false
   },
   "outputs": [
    {
     "name": "stdout",
     "output_type": "stream",
     "text": [
      "Overwriting reducer.py\n"
     ]
    }
   ],
   "source": [
    "%%writefile reducer.py\n",
    "#!/usr/bin/python\n",
    "# just printing the numbers.  Actual sorting is done in hadoop setup\n",
    "import sys\n",
    "for line in sys.stdin:    \n",
    "    print \"%s\" % (line.strip())"
   ]
  },
  {
   "cell_type": "code",
   "execution_count": 26,
   "metadata": {
    "collapsed": false
   },
   "outputs": [
    {
     "name": "stdout",
     "output_type": "stream",
     "text": [
      "16/01/24 05:26:47 INFO fs.TrashPolicyDefault: Namenode trash configuration: Deletion interval = 0 minutes, Emptier interval = 0 minutes.\n",
      "Deleted /w261/hw2/hw2_1/output\n",
      "packageJobJar: [] [/usr/lib/hadoop/lib/hadoop-streaming-2.6.0.jar] /tmp/streamjob1368099165353184764.jar tmpDir=null\n",
      "16/01/24 05:26:54 INFO client.RMProxy: Connecting to ResourceManager at /0.0.0.0:8032\n",
      "16/01/24 05:26:55 INFO client.RMProxy: Connecting to ResourceManager at /0.0.0.0:8032\n",
      "16/01/24 05:26:56 INFO mapred.FileInputFormat: Total input paths to process : 1\n",
      "16/01/24 05:26:56 INFO mapreduce.JobSubmitter: number of splits:2\n",
      "16/01/24 05:26:56 INFO Configuration.deprecation: mapred.output.key.comparator.class is deprecated. Instead, use mapreduce.job.output.key.comparator.class\n",
      "16/01/24 05:26:56 INFO Configuration.deprecation: mapred.text.key.comparator.options is deprecated. Instead, use mapreduce.partition.keycomparator.options\n",
      "16/01/24 05:26:57 INFO mapreduce.JobSubmitter: Submitting tokens for job: job_1453604265894_0013\n",
      "16/01/24 05:26:58 INFO impl.YarnClientImpl: Submitted application application_1453604265894_0013\n",
      "16/01/24 05:26:58 INFO mapreduce.Job: The url to track the job: http://ip-172-31-55-170.ec2.internal:8088/proxy/application_1453604265894_0013/\n",
      "16/01/24 05:26:58 INFO mapreduce.Job: Running job: job_1453604265894_0013\n",
      "16/01/24 05:27:15 INFO mapreduce.Job: Job job_1453604265894_0013 running in uber mode : false\n",
      "16/01/24 05:27:15 INFO mapreduce.Job:  map 0% reduce 0%\n",
      "16/01/24 05:27:37 INFO mapreduce.Job:  map 50% reduce 0%\n",
      "16/01/24 05:27:38 INFO mapreduce.Job:  map 100% reduce 0%\n",
      "16/01/24 05:27:52 INFO mapreduce.Job:  map 100% reduce 100%\n",
      "16/01/24 05:27:53 INFO mapreduce.Job: Job job_1453604265894_0013 completed successfully\n",
      "16/01/24 05:27:53 INFO mapreduce.Job: Counters: 49\n",
      "\tFile System Counters\n",
      "\t\tFILE: Number of bytes read=78909\n",
      "\t\tFILE: Number of bytes written=496847\n",
      "\t\tFILE: Number of read operations=0\n",
      "\t\tFILE: Number of large read operations=0\n",
      "\t\tFILE: Number of write operations=0\n",
      "\t\tHDFS: Number of bytes read=49224\n",
      "\t\tHDFS: Number of bytes written=58903\n",
      "\t\tHDFS: Number of read operations=9\n",
      "\t\tHDFS: Number of large read operations=0\n",
      "\t\tHDFS: Number of write operations=2\n",
      "\tJob Counters \n",
      "\t\tLaunched map tasks=2\n",
      "\t\tLaunched reduce tasks=1\n",
      "\t\tData-local map tasks=2\n",
      "\t\tTotal time spent by all maps in occupied slots (ms)=41503\n",
      "\t\tTotal time spent by all reduces in occupied slots (ms)=11987\n",
      "\t\tTotal time spent by all map tasks (ms)=41503\n",
      "\t\tTotal time spent by all reduce tasks (ms)=11987\n",
      "\t\tTotal vcore-seconds taken by all map tasks=41503\n",
      "\t\tTotal vcore-seconds taken by all reduce tasks=11987\n",
      "\t\tTotal megabyte-seconds taken by all map tasks=42499072\n",
      "\t\tTotal megabyte-seconds taken by all reduce tasks=12274688\n",
      "\tMap-Reduce Framework\n",
      "\t\tMap input records=10000\n",
      "\t\tMap output records=10000\n",
      "\t\tMap output bytes=58903\n",
      "\t\tMap output materialized bytes=78915\n",
      "\t\tInput split bytes=196\n",
      "\t\tCombine input records=0\n",
      "\t\tCombine output records=0\n",
      "\t\tReduce input groups=6270\n",
      "\t\tReduce shuffle bytes=78915\n",
      "\t\tReduce input records=10000\n",
      "\t\tReduce output records=10000\n",
      "\t\tSpilled Records=20000\n",
      "\t\tShuffled Maps =2\n",
      "\t\tFailed Shuffles=0\n",
      "\t\tMerged Map outputs=2\n",
      "\t\tGC time elapsed (ms)=812\n",
      "\t\tCPU time spent (ms)=4850\n",
      "\t\tPhysical memory (bytes) snapshot=553582592\n",
      "\t\tVirtual memory (bytes) snapshot=7588679680\n",
      "\t\tTotal committed heap usage (bytes)=392372224\n",
      "\tShuffle Errors\n",
      "\t\tBAD_ID=0\n",
      "\t\tCONNECTION=0\n",
      "\t\tIO_ERROR=0\n",
      "\t\tWRONG_LENGTH=0\n",
      "\t\tWRONG_MAP=0\n",
      "\t\tWRONG_REDUCE=0\n",
      "\tFile Input Format Counters \n",
      "\t\tBytes Read=49028\n",
      "\tFile Output Format Counters \n",
      "\t\tBytes Written=58903\n",
      "16/01/24 05:27:53 INFO streaming.StreamJob: Output directory: /w261/hw2/hw2_1/output\n"
     ]
    }
   ],
   "source": [
    "!cp mapper.py /data/w261/hw2/mapper.py; cp reducer.py /data/w261/hw2/reducer.py;\n",
    "!chmod +x /data/w261/hw2/mapper.py; chmod +x /data/w261/hw2/reducer.py;\n",
    "#!hdfs dfs -rm -r /w261/hw2/hw2_1/output;\n",
    "# the key is to set mapred.text.key.comparator.options=-nr, meaning reverse numerical sorting\n",
    "!$HADOOP_HOME/bin/hadoop jar $HADOOP_HOME/lib/hadoop-*streaming*.jar -D mapred.output.key.comparator.class=org.apache.hadoop.mapred.lib.KeyFieldBasedComparator -D mapred.text.key.comparator.options=-nr -mapper /data/w261/hw2/mapper.py -reducer /data/w261/hw2/reducer.py -input /w261/hw2/hw2_1/hw2_1.txt -output /w261/hw2/hw2_1/output;"
   ]
  },
  {
   "cell_type": "code",
   "execution_count": 27,
   "metadata": {
    "collapsed": false
   },
   "outputs": [
    {
     "name": "stdout",
     "output_type": "stream",
     "text": [
      "10000\t\r\n",
      "10000\t\r\n",
      "9999\t\r\n",
      "9997\t\r\n",
      "9997\t\r\n",
      "9996\t\r\n",
      "9992\t\r\n",
      "9992\t\r\n",
      "9992\t\r\n",
      "9991\t\r\n",
      "cat: Unable to write to output stream.\r\n"
     ]
    }
   ],
   "source": [
    "# display 10 biggest numbers:\n",
    "!hdfs dfs -cat /w261/hw2/hw2_1/output/part-00000 | head -10"
   ]
  },
  {
   "cell_type": "code",
   "execution_count": 28,
   "metadata": {
    "collapsed": false
   },
   "outputs": [
    {
     "name": "stdout",
     "output_type": "stream",
     "text": [
      "4\t\r\n",
      "4\t\r\n",
      "3\t\r\n",
      "3\t\r\n",
      "3\t\r\n",
      "1\t\r\n",
      "0\t\r\n",
      "0\t\r\n",
      "0\t\r\n",
      "0\t\r\n"
     ]
    }
   ],
   "source": [
    "# display 10 smallest numbers:\n",
    "!hdfs dfs -cat /w261/hw2/hw2_1/output/part-00000 | tail -10"
   ]
  },
  {
   "cell_type": "markdown",
   "metadata": {},
   "source": [
    "* <b>HW2.2.  WORDCOUNT\n",
    "* Using the Enron data from HW1 and Hadoop MapReduce streaming, write the mapper/reducer job that  will determine the word count (number of occurrences) of each white-space delimitted token (assume spaces, fullstops, comma as delimiters). Examine the word “assistance” and report its word count results.</b>"
   ]
  },
  {
   "cell_type": "code",
   "execution_count": 30,
   "metadata": {
    "collapsed": false
   },
   "outputs": [],
   "source": [
    "# put the enronn file on hdfs\n",
    "!hdfs dfs -put enronemail_1h.txt /w261/hw2/enronemail_1h.txt"
   ]
  },
  {
   "cell_type": "code",
   "execution_count": 53,
   "metadata": {
    "collapsed": false
   },
   "outputs": [
    {
     "name": "stdout",
     "output_type": "stream",
     "text": [
      "Overwriting mapper.py\n"
     ]
    }
   ],
   "source": [
    "%%writefile mapper.py\n",
    "#!/usr/bin/python\n",
    "import sys\n",
    "import re\n",
    "import string\n",
    "# split by spaces, fullstops, and comma\n",
    "patt = re.compile('[\\s|\\.|,]')\n",
    "for line in sys.stdin:\n",
    "    line = line.strip()\n",
    "    if line == '': continue\n",
    "    lineArr = line.split('\\t')\n",
    "    # skip bad entrieds\n",
    "    if len(lineArr) != 4: continue\n",
    "    subject = lineArr[2]\n",
    "    body = lineArr [3]\n",
    "    subject_body = subject + ' ' + body\n",
    "    # remove punctuations\n",
    "    subject_body = subject_body.translate(string.maketrans(\"\",\"\"), string.punctuation)\n",
    "    words = re.split(patt, subject_body)\n",
    "    for word in words:\n",
    "        word = word.strip()\n",
    "        if word != '':\n",
    "            print '%s\\t%s' % (word, 1)"
   ]
  },
  {
   "cell_type": "code",
   "execution_count": 35,
   "metadata": {
    "collapsed": false
   },
   "outputs": [
    {
     "name": "stdout",
     "output_type": "stream",
     "text": [
      "Overwriting reducer.py\n"
     ]
    }
   ],
   "source": [
    "%%writefile reducer.py\n",
    "#!/usr/bin/python\n",
    "from operator import itemgetter\n",
    "import sys\n",
    "\n",
    "current_word = None\n",
    "current_count = 0\n",
    "word = None\n",
    "\n",
    "# input comes from STDIN\n",
    "for line in sys.stdin:\n",
    "    # remove leading and trailing whitespace\n",
    "    line = line.strip()\n",
    "\n",
    "    # parse the input we got from mapper.py\n",
    "    word, count = line.split('\\t', 1)\n",
    "\n",
    "    # convert count (currently a string) to int\n",
    "    try:\n",
    "        count = int(count)\n",
    "    except ValueError:\n",
    "        # count was not a number, so silently\n",
    "        # ignore/discard this line\n",
    "        continue\n",
    "\n",
    "    # this IF-switch only works because Hadoop sorts map output\n",
    "    # by key (here: word) before it is passed to the reducer\n",
    "    if current_word == word:\n",
    "        current_count += count\n",
    "    else:\n",
    "        if current_word:\n",
    "            # write result to STDOUT\n",
    "            print '%s\\t%s' % (current_word, current_count)\n",
    "        current_count = count\n",
    "        current_word = word\n",
    "\n",
    "# do not forget to output the last word if needed!\n",
    "if current_word == word:\n",
    "    print '%s\\t%s' % (current_word, current_count)"
   ]
  },
  {
   "cell_type": "code",
   "execution_count": 56,
   "metadata": {
    "collapsed": false
   },
   "outputs": [
    {
     "name": "stdout",
     "output_type": "stream",
     "text": [
      "16/01/24 06:53:45 INFO fs.TrashPolicyDefault: Namenode trash configuration: Deletion interval = 0 minutes, Emptier interval = 0 minutes.\n",
      "Deleted /w261/hw2/hw2_2_output\n",
      "16/01/24 06:53:47 WARN streaming.StreamJob: -file option is deprecated, please use generic option -files instead.\n",
      "packageJobJar: [/data/w261/hw2/mapper.py, /data/w261/hw2/reducer.py] [/usr/lib/hadoop/lib/hadoop-streaming-2.6.0.jar] /tmp/streamjob3052510899272968637.jar tmpDir=null\n",
      "16/01/24 06:53:52 INFO client.RMProxy: Connecting to ResourceManager at /0.0.0.0:8032\n",
      "16/01/24 06:53:53 INFO client.RMProxy: Connecting to ResourceManager at /0.0.0.0:8032\n",
      "16/01/24 06:53:54 INFO mapred.FileInputFormat: Total input paths to process : 1\n",
      "16/01/24 06:53:55 INFO mapreduce.JobSubmitter: number of splits:2\n",
      "16/01/24 06:53:55 INFO mapreduce.JobSubmitter: Submitting tokens for job: job_1453604265894_0019\n",
      "16/01/24 06:53:56 INFO impl.YarnClientImpl: Submitted application application_1453604265894_0019\n",
      "16/01/24 06:53:56 INFO mapreduce.Job: The url to track the job: http://ip-172-31-55-170.ec2.internal:8088/proxy/application_1453604265894_0019/\n",
      "16/01/24 06:53:56 INFO mapreduce.Job: Running job: job_1453604265894_0019\n",
      "16/01/24 06:54:11 INFO mapreduce.Job: Job job_1453604265894_0019 running in uber mode : false\n",
      "16/01/24 06:54:11 INFO mapreduce.Job:  map 0% reduce 0%\n",
      "16/01/24 06:54:33 INFO mapreduce.Job:  map 50% reduce 0%\n",
      "16/01/24 06:54:34 INFO mapreduce.Job:  map 100% reduce 0%\n",
      "16/01/24 06:54:47 INFO mapreduce.Job:  map 100% reduce 100%\n",
      "16/01/24 06:54:47 INFO mapreduce.Job: Job job_1453604265894_0019 completed successfully\n",
      "16/01/24 06:54:48 INFO mapreduce.Job: Counters: 49\n",
      "\tFile System Counters\n",
      "\t\tFILE: Number of bytes read=300209\n",
      "\t\tFILE: Number of bytes written=942462\n",
      "\t\tFILE: Number of read operations=0\n",
      "\t\tFILE: Number of large read operations=0\n",
      "\t\tFILE: Number of write operations=0\n",
      "\t\tHDFS: Number of bytes read=216879\n",
      "\t\tHDFS: Number of bytes written=56271\n",
      "\t\tHDFS: Number of read operations=9\n",
      "\t\tHDFS: Number of large read operations=0\n",
      "\t\tHDFS: Number of write operations=2\n",
      "\tJob Counters \n",
      "\t\tLaunched map tasks=2\n",
      "\t\tLaunched reduce tasks=1\n",
      "\t\tData-local map tasks=2\n",
      "\t\tTotal time spent by all maps in occupied slots (ms)=40081\n",
      "\t\tTotal time spent by all reduces in occupied slots (ms)=10339\n",
      "\t\tTotal time spent by all map tasks (ms)=40081\n",
      "\t\tTotal time spent by all reduce tasks (ms)=10339\n",
      "\t\tTotal vcore-seconds taken by all map tasks=40081\n",
      "\t\tTotal vcore-seconds taken by all reduce tasks=10339\n",
      "\t\tTotal megabyte-seconds taken by all map tasks=41042944\n",
      "\t\tTotal megabyte-seconds taken by all reduce tasks=10587136\n",
      "\tMap-Reduce Framework\n",
      "\t\tMap input records=101\n",
      "\t\tMap output records=30512\n",
      "\t\tMap output bytes=239179\n",
      "\t\tMap output materialized bytes=300215\n",
      "\t\tInput split bytes=200\n",
      "\t\tCombine input records=0\n",
      "\t\tCombine output records=0\n",
      "\t\tReduce input groups=5664\n",
      "\t\tReduce shuffle bytes=300215\n",
      "\t\tReduce input records=30512\n",
      "\t\tReduce output records=5664\n",
      "\t\tSpilled Records=61024\n",
      "\t\tShuffled Maps =2\n",
      "\t\tFailed Shuffles=0\n",
      "\t\tMerged Map outputs=2\n",
      "\t\tGC time elapsed (ms)=830\n",
      "\t\tCPU time spent (ms)=5140\n",
      "\t\tPhysical memory (bytes) snapshot=560562176\n",
      "\t\tVirtual memory (bytes) snapshot=7593975808\n",
      "\t\tTotal committed heap usage (bytes)=392372224\n",
      "\tShuffle Errors\n",
      "\t\tBAD_ID=0\n",
      "\t\tCONNECTION=0\n",
      "\t\tIO_ERROR=0\n",
      "\t\tWRONG_LENGTH=0\n",
      "\t\tWRONG_MAP=0\n",
      "\t\tWRONG_REDUCE=0\n",
      "\tFile Input Format Counters \n",
      "\t\tBytes Read=216679\n",
      "\tFile Output Format Counters \n",
      "\t\tBytes Written=56271\n",
      "16/01/24 06:54:48 INFO streaming.StreamJob: Output directory: /w261/hw2/hw2_2_output\n"
     ]
    }
   ],
   "source": [
    "!cp mapper.py /data/w261/hw2/mapper.py; cp reducer.py /data/w261/hw2/reducer.py;\n",
    "!chmod +x /data/w261/hw2/mapper.py; chmod +x /data/w261/hw2/reducer.py;\n",
    "!hdfs dfs -rm -r /w261/hw2/hw2_2_output;\n",
    "!$HADOOP_HOME/bin/hadoop jar $HADOOP_HOME/lib/hadoop-*streaming*.jar -mapper mapper.py -file /data/w261/hw2/mapper.py -reducer reducer.py -file /data/w261/hw2/reducer.py -input /w261/hw2/enronemail_1h.txt -output /w261/hw2/hw2_2_output;"
   ]
  },
  {
   "cell_type": "code",
   "execution_count": 51,
   "metadata": {
    "collapsed": false
   },
   "outputs": [
    {
     "name": "stdout",
     "output_type": "stream",
     "text": [
      "assistance\t9\r\n"
     ]
    }
   ],
   "source": [
    "# examine the word \"assistance\"\n",
    "!hdfs dfs -cat /w261/hw2/hw2_2_output/part-00000 | grep assistance"
   ]
  },
  {
   "cell_type": "markdown",
   "metadata": {},
   "source": [
    "The above number is less than 10 because one of the record containing the word \"assistance\" does not have the properly formated field width."
   ]
  },
  {
   "cell_type": "markdown",
   "metadata": {},
   "source": [
    "* <b>HW2.2.1  Using Hadoop MapReduce and your wordcount job (from HW2.2) determine the top-10 occurring tokens (most frequent tokens)</b>"
   ]
  },
  {
   "cell_type": "code",
   "execution_count": 59,
   "metadata": {
    "collapsed": false
   },
   "outputs": [
    {
     "name": "stdout",
     "output_type": "stream",
     "text": [
      "Overwriting mapper.py\n"
     ]
    }
   ],
   "source": [
    "%%writefile mapper.py\n",
    "#!/usr/bin/python\n",
    "# I am using the word count as the key and ask Hadoop to do descending sort.  This should now give me the top-10 token\n",
    "import sys\n",
    "for line in sys.stdin:\n",
    "    line = line.strip()\n",
    "    if line == '': continue\n",
    "    print '\\t'.join([line.split('\\t')[1], line.split('\\t')[0]])"
   ]
  },
  {
   "cell_type": "code",
   "execution_count": 67,
   "metadata": {
    "collapsed": false
   },
   "outputs": [
    {
     "name": "stdout",
     "output_type": "stream",
     "text": [
      "Overwriting reducer.py\n"
     ]
    }
   ],
   "source": [
    "%%writefile reducer.py\n",
    "#!/usr/bin/python\n",
    "# no need to do much, descending sort is done in hadoop command line (see next cell).\n",
    "import sys\n",
    "# print out only the top 10 tokens\n",
    "top_n = 10\n",
    "printcnt = 0\n",
    "for line in sys.stdin:\n",
    "    line = line.strip()\n",
    "    if printcnt < top_n:\n",
    "        print '\\t'.join([line.split('\\t')[1], line.split('\\t')[0]])\n",
    "        printcnt += 1\n",
    "    else:\n",
    "        break"
   ]
  },
  {
   "cell_type": "code",
   "execution_count": 68,
   "metadata": {
    "collapsed": false
   },
   "outputs": [
    {
     "name": "stdout",
     "output_type": "stream",
     "text": [
      "16/01/24 07:26:46 INFO fs.TrashPolicyDefault: Namenode trash configuration: Deletion interval = 0 minutes, Emptier interval = 0 minutes.\n",
      "Deleted /w261/hw2/hw2_2_1_output\n",
      "16/01/24 07:26:48 WARN streaming.StreamJob: -file option is deprecated, please use generic option -files instead.\n",
      "packageJobJar: [/data/w261/hw2/mapper.py, /data/w261/hw2/reducer.py] [/usr/lib/hadoop/lib/hadoop-streaming-2.6.0.jar] /tmp/streamjob4936071954852985045.jar tmpDir=null\n",
      "16/01/24 07:26:53 INFO client.RMProxy: Connecting to ResourceManager at /0.0.0.0:8032\n",
      "16/01/24 07:26:54 INFO client.RMProxy: Connecting to ResourceManager at /0.0.0.0:8032\n",
      "16/01/24 07:26:56 INFO mapred.FileInputFormat: Total input paths to process : 1\n",
      "16/01/24 07:26:56 INFO mapreduce.JobSubmitter: number of splits:2\n",
      "16/01/24 07:26:56 INFO Configuration.deprecation: mapred.output.key.comparator.class is deprecated. Instead, use mapreduce.job.output.key.comparator.class\n",
      "16/01/24 07:26:56 INFO Configuration.deprecation: mapred.text.key.comparator.options is deprecated. Instead, use mapreduce.partition.keycomparator.options\n",
      "16/01/24 07:26:57 INFO mapreduce.JobSubmitter: Submitting tokens for job: job_1453604265894_0022\n",
      "16/01/24 07:26:57 INFO impl.YarnClientImpl: Submitted application application_1453604265894_0022\n",
      "16/01/24 07:26:57 INFO mapreduce.Job: The url to track the job: http://ip-172-31-55-170.ec2.internal:8088/proxy/application_1453604265894_0022/\n",
      "16/01/24 07:26:57 INFO mapreduce.Job: Running job: job_1453604265894_0022\n",
      "16/01/24 07:27:15 INFO mapreduce.Job: Job job_1453604265894_0022 running in uber mode : false\n",
      "16/01/24 07:27:15 INFO mapreduce.Job:  map 0% reduce 0%\n",
      "16/01/24 07:27:37 INFO mapreduce.Job:  map 50% reduce 0%\n",
      "16/01/24 07:27:38 INFO mapreduce.Job:  map 100% reduce 0%\n",
      "16/01/24 07:27:52 INFO mapreduce.Job:  map 100% reduce 100%\n",
      "16/01/24 07:27:52 INFO mapreduce.Job: Job job_1453604265894_0022 completed successfully\n",
      "16/01/24 07:27:52 INFO mapreduce.Job: Counters: 49\n",
      "\tFile System Counters\n",
      "\t\tFILE: Number of bytes read=67605\n",
      "\t\tFILE: Number of bytes written=478244\n",
      "\t\tFILE: Number of read operations=0\n",
      "\t\tFILE: Number of large read operations=0\n",
      "\t\tFILE: Number of write operations=0\n",
      "\t\tHDFS: Number of bytes read=57020\n",
      "\t\tHDFS: Number of bytes written=76\n",
      "\t\tHDFS: Number of read operations=9\n",
      "\t\tHDFS: Number of large read operations=0\n",
      "\t\tHDFS: Number of write operations=2\n",
      "\tJob Counters \n",
      "\t\tLaunched map tasks=2\n",
      "\t\tLaunched reduce tasks=1\n",
      "\t\tData-local map tasks=2\n",
      "\t\tTotal time spent by all maps in occupied slots (ms)=41531\n",
      "\t\tTotal time spent by all reduces in occupied slots (ms)=10290\n",
      "\t\tTotal time spent by all map tasks (ms)=41531\n",
      "\t\tTotal time spent by all reduce tasks (ms)=10290\n",
      "\t\tTotal vcore-seconds taken by all map tasks=41531\n",
      "\t\tTotal vcore-seconds taken by all reduce tasks=10290\n",
      "\t\tTotal megabyte-seconds taken by all map tasks=42527744\n",
      "\t\tTotal megabyte-seconds taken by all reduce tasks=10536960\n",
      "\tMap-Reduce Framework\n",
      "\t\tMap input records=5664\n",
      "\t\tMap output records=5664\n",
      "\t\tMap output bytes=56271\n",
      "\t\tMap output materialized bytes=67611\n",
      "\t\tInput split bytes=212\n",
      "\t\tCombine input records=0\n",
      "\t\tCombine output records=0\n",
      "\t\tReduce input groups=104\n",
      "\t\tReduce shuffle bytes=67611\n",
      "\t\tReduce input records=5664\n",
      "\t\tReduce output records=10\n",
      "\t\tSpilled Records=11328\n",
      "\t\tShuffled Maps =2\n",
      "\t\tFailed Shuffles=0\n",
      "\t\tMerged Map outputs=2\n",
      "\t\tGC time elapsed (ms)=729\n",
      "\t\tCPU time spent (ms)=4360\n",
      "\t\tPhysical memory (bytes) snapshot=563634176\n",
      "\t\tVirtual memory (bytes) snapshot=7596371968\n",
      "\t\tTotal committed heap usage (bytes)=392372224\n",
      "\tShuffle Errors\n",
      "\t\tBAD_ID=0\n",
      "\t\tCONNECTION=0\n",
      "\t\tIO_ERROR=0\n",
      "\t\tWRONG_LENGTH=0\n",
      "\t\tWRONG_MAP=0\n",
      "\t\tWRONG_REDUCE=0\n",
      "\tFile Input Format Counters \n",
      "\t\tBytes Read=56808\n",
      "\tFile Output Format Counters \n",
      "\t\tBytes Written=76\n",
      "16/01/24 07:27:52 INFO streaming.StreamJob: Output directory: /w261/hw2/hw2_2_1_output\n"
     ]
    }
   ],
   "source": [
    "!cp mapper.py /data/w261/hw2/mapper.py; cp reducer.py /data/w261/hw2/reducer.py;\n",
    "!chmod +x /data/w261/hw2/mapper.py; chmod +x /data/w261/hw2/reducer.py;\n",
    "!hdfs dfs -rm -r /w261/hw2/hw2_2_1_output;\n",
    "# -D mapred.text.key.comparator.options=-nr cause hadoop to do numerically descending sort.  Word count is the key\n",
    "!$HADOOP_HOME/bin/hadoop jar $HADOOP_HOME/lib/hadoop-*streaming*.jar -D mapred.output.key.comparator.class=org.apache.hadoop.mapred.lib.KeyFieldBasedComparator -D mapred.text.key.comparator.options=-nr -mapper mapper.py -file /data/w261/hw2/mapper.py -reducer reducer.py -file /data/w261/hw2/reducer.py -input /w261/hw2/hw2_2_output/part-00000 -output /w261/hw2/hw2_2_1_output;"
   ]
  },
  {
   "cell_type": "code",
   "execution_count": 69,
   "metadata": {
    "collapsed": false
   },
   "outputs": [
    {
     "name": "stdout",
     "output_type": "stream",
     "text": [
      "the\t1207\r\n",
      "to\t941\r\n",
      "and\t622\r\n",
      "of\t539\r\n",
      "a\t518\r\n",
      "you\t421\r\n",
      "in\t402\r\n",
      "your\t381\r\n",
      "for\t358\r\n",
      "on\t254\r\n"
     ]
    }
   ],
   "source": [
    "# the top 10 tokens:\n",
    "!hdfs dfs -cat /w261/hw2/hw2_2_1_output/part-00000"
   ]
  },
  {
   "cell_type": "markdown",
   "metadata": {},
   "source": [
    "* <b>HW2.3. Multinomial NAIVE BAYES with NO Smoothing\n",
    "* Using the Enron data from HW1 and Hadoop MapReduce, write  a mapper/reducer job(s) that will both learn  Naive Bayes classifier and classify the Enron email messages using the learnt Naive Bayes classifier. Use all white-space delimitted tokens as independent input variables (assume spaces, fullstops, commas as delimiters).\n",
    "* Count up how many times you need to process a zero probabilty for each class and report.\n",
    "* Report the performance of your learnt classifier in terms of misclassifcation error rate of your multinomial Naive Bayes Classifier. Plot a histogram of the  posterior probabilities (i.e., Pr(Class|Doc)) for each class over the training set. Summarize what you see.</b>"
   ]
  },
  {
   "cell_type": "code",
   "execution_count": 76,
   "metadata": {
    "collapsed": false
   },
   "outputs": [
    {
     "name": "stdout",
     "output_type": "stream",
     "text": [
      "Overwriting mapper.py\n"
     ]
    }
   ],
   "source": [
    "%%writefile mapper.py\n",
    "#!/usr/bin/python\n",
    "## mapper.py\n",
    "## Author: Kuan Lin\n",
    "## Description: mapper code for HW1.5\n",
    "\n",
    "import sys\n",
    "import re\n",
    "import string\n",
    "\n",
    "useAllWords = True\n",
    "findwords = None\n",
    "\n",
    "spam_word_counts = {}\n",
    "ham_word_counts = {}\n",
    "spam_total_words = 0\n",
    "ham_total_words = 0\n",
    "\n",
    "def findWordCount(doc, word):\n",
    "\tcount = 0\n",
    "\tfor w in doc.split(' '):\n",
    "\t\tif w == word: count += 1\n",
    "\treturn count\n",
    "\n",
    "for line in sys.stdin:\n",
    "\tline = line.strip().lower()\n",
    "\tif line == \"\": continue\n",
    "\tlineArr = line.split('\\t')\n",
    "\t# check data integrity.  each valid line should have 4 fields, with second field equals either 0 or 1\n",
    "\tif len(lineArr) != 4 or (lineArr[1] != \"0\" and lineArr[1] != \"1\"): continue\n",
    "\t\n",
    "\tspam_flag = lineArr[1]\n",
    "\tsubject_body = lineArr[2] + ' ' + lineArr[3]\n",
    "\t# remove punctuations\n",
    "\tsubject_body = subject_body.translate(string.maketrans(\"\",\"\"), string.punctuation).strip().lower()\n",
    "\tall_words = [word.strip() for word in subject_body.split(' ') if word.strip() != '']\n",
    "\t#print str(all_words)\n",
    "\tif useAllWords:\n",
    "\t\tfindwords = set([w for w in all_words])\n",
    "\t\n",
    "\tif spam_flag == \"1\":\n",
    "\t\tspam_total_words += len(all_words)\n",
    "\telse:\n",
    "\t\tham_total_words += len(all_words)\n",
    "\t\t\n",
    "\tfor word in findwords:\n",
    "\t\t#pattern = re.compile('[\\s+]?(' + word + ')[\\s+]?')\n",
    "\t\tif spam_flag == \"1\":\n",
    "\t\t\tif word in spam_word_counts: spam_word_counts[word] += findWordCount(subject_body, word)\n",
    "\t\t\telse: spam_word_counts[word] = findWordCount(subject_body, word)\n",
    "\t\telse:\n",
    "\t\t\tif word in ham_word_counts: ham_word_counts[word] += findWordCount(subject_body, word)\n",
    "\t\t\telse: ham_word_counts[word] = findWordCount(subject_body, word)\n",
    "\t\t\t\n",
    "print '\\n'.join([word + '\\t' + str(spam_word_counts[word]) + '\\t1' for word in spam_word_counts] + \n",
    "[word + '\\t' + str(ham_word_counts[word]) + '\\t0' for word in ham_word_counts] +\n",
    "['class_total_words\\t' + str(spam_total_words) + '\\t1', 'class_total_words\\t' + str(ham_total_words) + '\\t0'])"
   ]
  },
  {
   "cell_type": "code",
   "execution_count": 89,
   "metadata": {
    "collapsed": false
   },
   "outputs": [
    {
     "name": "stdout",
     "output_type": "stream",
     "text": [
      "Overwriting reducer.py\n"
     ]
    }
   ],
   "source": [
    "%%writefile reducer.py\n",
    "#!/usr/bin/python\n",
    "## reducer.py\n",
    "## Author: Kuan Lin\n",
    "## Description: reducer code for HW1.5\n",
    "\n",
    "import sys\n",
    "import re\n",
    "import math\n",
    "import string\n",
    "import subprocess\n",
    "\n",
    "files = sys.argv[1:]\n",
    "# data to classify.  File location is on HDFS\n",
    "data=\"/w261/hw2/enronemail_1h.txt\"\n",
    "\n",
    "spam_word_counts = {}\n",
    "ham_word_counts = {}\n",
    "spam_total_words = 0\n",
    "ham_total_words = 0\n",
    "unique_words = set()\n",
    "spam_zero_count_processed = 0\n",
    "ham_zero_count_processed = 0\n",
    "\n",
    "# assume equal prior for spam and ham\n",
    "spam_prior = 0.44\n",
    "ham_prior = 0.56\n",
    "\n",
    "def findWordCount(doc, word):\n",
    "\tcount = 0\n",
    "\tfor w in doc.split(' '):\n",
    "\t\tif w == word: count += 1\n",
    "\treturn count\n",
    "\n",
    "def spamWordProb(word):\n",
    "\tcount = 0\n",
    "\tif word in spam_word_counts: count = spam_word_counts[word]\n",
    "\t# No laplace smoothing\n",
    "\t#return float(count+1)/float(spam_total_words+len(unique_words))\n",
    "\treturn float(count)/float(spam_total_words)\n",
    "\t\n",
    "def hamWordProb(word):\n",
    "\tcount = 0\n",
    "\tif word in ham_word_counts: count = ham_word_counts[word]\n",
    "\t# No laplace smoothing\n",
    "\t#return float(count+1)/float(ham_total_words+len(unique_words))\n",
    "\treturn float(count)/float(ham_total_words)\n",
    "\t\n",
    "def classifyWithWordList(document, word_list):\n",
    "\tglobal spam_zero_count_processed\n",
    "\tglobal ham_zero_count_processed\n",
    "\tspam_logprob = math.log(spam_prior)\n",
    "\tham_logprob = math.log(ham_prior)\n",
    "\tfor word in word_list:\n",
    "\t\t#pattern = re.compile('[\\s+]?(' + word + ')[\\s+]?')\n",
    "\t\tword_count = findWordCount(document, word)\n",
    "\t\tspam_word_prob = spamWordProb(word)\n",
    "\t\tham_word_prob = hamWordProb(word)\n",
    "\t\t# update prob if word count > 0.  Otherwise record the event as per instruction.\n",
    "\t\tif spam_word_prob > 0:\n",
    "\t\t\tspam_logprob += math.log(spam_word_prob)*word_count\n",
    "\t\telse:\n",
    "\t\t\tspam_zero_count_processed += 1\n",
    "\t\t\t# using a small default probability in order to avoid taking log(0) which will throw an error\n",
    "\t\t\tspam_logprob += math.log(0.0001)*word_count\n",
    "\t\tif ham_word_prob > 0:\n",
    "\t\t\tham_logprob += math.log(ham_word_prob)*word_count\n",
    "\t\telse:\n",
    "\t\t\tham_zero_count_processed += 1\n",
    "\t\t\t# using a small default probability in order to avoid taking log(0) which will throw an error\n",
    "\t\t\tham_logprob += math.log(0.0001)*word_count\n",
    "\t# take the exponential to recover probability\n",
    "\tspam_prob = math.e**spam_logprob\n",
    "\tham_prob = math.e**ham_logprob\n",
    "\tif spam_logprob > ham_logprob:\n",
    "\t\treturn (1, spam_prob, ham_prob)\n",
    "\telse:\n",
    "\t\treturn (0, spam_prob, ham_prob)\n",
    "\n",
    "for line in sys.stdin:\n",
    "    line = line.strip()\n",
    "    if line == \"\": continue\n",
    "\n",
    "    lineArr = line.split('\\t')\n",
    "    word = lineArr[0]\n",
    "    count = int(lineArr[1])\n",
    "    spam_flag = int(lineArr[2])\n",
    "\n",
    "    if spam_flag == 1:\n",
    "        if word == \"class_total_words\":\n",
    "            spam_total_words += count\n",
    "            continue\n",
    "        if word in spam_word_counts:\n",
    "            spam_word_counts[word] += count\n",
    "        else:\n",
    "            spam_word_counts[word] = count\n",
    "    else:\n",
    "        if word == \"class_total_words\":\n",
    "            ham_total_words += count\n",
    "            continue\n",
    "        if word in ham_word_counts:\n",
    "            ham_word_counts[word] += count\n",
    "        else:\n",
    "            ham_word_counts[word] = count\n",
    "\n",
    "# perform classification with all words\n",
    "unique_words = set([k for k in spam_word_counts.keys()] + [k for k in ham_word_counts.keys()])\n",
    "total_msg_classified = 0\n",
    "total_msg_correct = 0\n",
    "tpc = 0\n",
    "fpc = 0\n",
    "tnc = 0\n",
    "fnc = 0\n",
    "\n",
    "cat = subprocess.Popen([\"hadoop\", \"fs\", \"-cat\", data], stdout=subprocess.PIPE)\n",
    "for line in cat.stdout:\n",
    "\tline = line.strip()\n",
    "\tlineArr = line.split('\\t')\n",
    "\t# check data integrity.  each valid line should have 4 fields, with second field equals either 0 or 1\n",
    "\tif len(lineArr) != 4 or (lineArr[1] != \"0\" and lineArr[1] != \"1\"): continue\n",
    "\tmsg_id = lineArr[0]\n",
    "\tspam_flag = lineArr[1]\n",
    "\tsubject_body = lineArr[2] + ' ' + lineArr[3]\n",
    "\t# remove punctuations\n",
    "\tsubject_body = subject_body.translate(string.maketrans(\"\",\"\"), string.punctuation).strip().lower()\n",
    "\tpredicted_results = classifyWithWordList(subject_body, unique_words)\n",
    "\tspam_prob = predicted_results[1]\n",
    "\tham_prob = predicted_results[2]\n",
    "\tnorm = spam_prob + ham_prob\n",
    "\t# calculate true probability by dividing by the normailzation number, so that spam_prob and ham_prob add up to one.\n",
    "\tif norm > 0:\n",
    "\t\tspam_prob = spam_prob / norm\n",
    "\t\tham_prob = ham_prob / norm\n",
    "\telse:\n",
    "\t\tspam_prob = 0\n",
    "\t\tham_prob = 0\n",
    "\tspam_flag_predicted = str(predicted_results[0])\n",
    "\ttotal_msg_classified += 1\n",
    "\tif spam_flag == \"1\":\n",
    "\t\tif spam_flag_predicted == \"1\": tpc += 1\n",
    "\t\telse: fnc += 1\n",
    "\telse:\n",
    "\t\tif spam_flag_predicted == \"1\": fpc += 1\n",
    "\t\telse: tnc += 1\n",
    "\tif spam_flag_predicted == spam_flag: total_msg_correct += 1\n",
    "\tprint '\\t'.join([msg_id, spam_flag, spam_flag_predicted, str(spam_prob), str(ham_prob)])\n",
    "print \"-----------------------------------------------------\"\n",
    "print \"feature size: \" + str(len(unique_words))\n",
    "print \"total document classified: \" + str(total_msg_classified)\n",
    "print \"total document correctly classified: \" + str(total_msg_correct)\n",
    "print \"Spam zero prob processed: %s\" % spam_zero_count_processed\n",
    "print \"Non-Spam zero prob processed: %s\" % ham_zero_count_processed\n",
    "print \"TPR: %.4f\"%(float(tpc)/float(tpc+fnc))\n",
    "print \"FPR: %.4f\"%(float(fpc)/float(fpc+tnc))\n",
    "print \"accuracy: %.4f\"%(float(total_msg_correct)/float(total_msg_classified))"
   ]
  },
  {
   "cell_type": "code",
   "execution_count": 90,
   "metadata": {
    "collapsed": false
   },
   "outputs": [
    {
     "name": "stdout",
     "output_type": "stream",
     "text": [
      "16/01/24 08:55:17 INFO fs.TrashPolicyDefault: Namenode trash configuration: Deletion interval = 0 minutes, Emptier interval = 0 minutes.\n",
      "Deleted /w261/hw2/hw2_3_output\n",
      "16/01/24 08:55:21 WARN streaming.StreamJob: -file option is deprecated, please use generic option -files instead.\n",
      "packageJobJar: [/data/w261/hw2/mapper.py, /data/w261/hw2/reducer.py] [/usr/lib/hadoop/lib/hadoop-streaming-2.6.0.jar] /tmp/streamjob292718487624004076.jar tmpDir=null\n",
      "16/01/24 08:55:28 INFO client.RMProxy: Connecting to ResourceManager at /0.0.0.0:8032\n",
      "16/01/24 08:55:29 INFO client.RMProxy: Connecting to ResourceManager at /0.0.0.0:8032\n",
      "16/01/24 08:55:32 INFO mapred.FileInputFormat: Total input paths to process : 1\n",
      "16/01/24 08:55:32 INFO mapreduce.JobSubmitter: number of splits:2\n",
      "16/01/24 08:55:34 INFO mapreduce.JobSubmitter: Submitting tokens for job: job_1453604265894_0024\n",
      "16/01/24 08:55:35 INFO impl.YarnClientImpl: Submitted application application_1453604265894_0024\n",
      "16/01/24 08:55:35 INFO mapreduce.Job: The url to track the job: http://ip-172-31-55-170.ec2.internal:8088/proxy/application_1453604265894_0024/\n",
      "16/01/24 08:55:35 INFO mapreduce.Job: Running job: job_1453604265894_0024\n",
      "16/01/24 08:55:58 INFO mapreduce.Job: Job job_1453604265894_0024 running in uber mode : false\n",
      "16/01/24 08:55:58 INFO mapreduce.Job:  map 0% reduce 0%\n",
      "16/01/24 08:56:29 INFO mapreduce.Job:  map 67% reduce 0%\n",
      "16/01/24 08:56:31 INFO mapreduce.Job:  map 83% reduce 0%\n",
      "16/01/24 08:56:33 INFO mapreduce.Job:  map 100% reduce 0%\n",
      "16/01/24 08:56:50 INFO mapreduce.Job:  map 100% reduce 100%\n",
      "16/01/24 08:57:42 INFO mapreduce.Job: Job job_1453604265894_0024 completed successfully\n",
      "16/01/24 08:57:43 INFO mapreduce.Job: Counters: 49\n",
      "\tFile System Counters\n",
      "\t\tFILE: Number of bytes read=111973\n",
      "\t\tFILE: Number of bytes written=565990\n",
      "\t\tFILE: Number of read operations=0\n",
      "\t\tFILE: Number of large read operations=0\n",
      "\t\tFILE: Number of write operations=0\n",
      "\t\tHDFS: Number of bytes read=216879\n",
      "\t\tHDFS: Number of bytes written=4015\n",
      "\t\tHDFS: Number of read operations=9\n",
      "\t\tHDFS: Number of large read operations=0\n",
      "\t\tHDFS: Number of write operations=2\n",
      "\tJob Counters \n",
      "\t\tLaunched map tasks=2\n",
      "\t\tLaunched reduce tasks=1\n",
      "\t\tData-local map tasks=2\n",
      "\t\tTotal time spent by all maps in occupied slots (ms)=63155\n",
      "\t\tTotal time spent by all reduces in occupied slots (ms)=67326\n",
      "\t\tTotal time spent by all map tasks (ms)=63155\n",
      "\t\tTotal time spent by all reduce tasks (ms)=67326\n",
      "\t\tTotal vcore-seconds taken by all map tasks=63155\n",
      "\t\tTotal vcore-seconds taken by all reduce tasks=67326\n",
      "\t\tTotal megabyte-seconds taken by all map tasks=64670720\n",
      "\t\tTotal megabyte-seconds taken by all reduce tasks=68941824\n",
      "\tMap-Reduce Framework\n",
      "\t\tMap input records=101\n",
      "\t\tMap output records=8280\n",
      "\t\tMap output bytes=95407\n",
      "\t\tMap output materialized bytes=111979\n",
      "\t\tInput split bytes=200\n",
      "\t\tCombine input records=0\n",
      "\t\tCombine output records=0\n",
      "\t\tReduce input groups=5664\n",
      "\t\tReduce shuffle bytes=111979\n",
      "\t\tReduce input records=8280\n",
      "\t\tReduce output records=107\n",
      "\t\tSpilled Records=16560\n",
      "\t\tShuffled Maps =2\n",
      "\t\tFailed Shuffles=0\n",
      "\t\tMerged Map outputs=2\n",
      "\t\tGC time elapsed (ms)=1318\n",
      "\t\tCPU time spent (ms)=10680\n",
      "\t\tPhysical memory (bytes) snapshot=552763392\n",
      "\t\tVirtual memory (bytes) snapshot=7595245568\n",
      "\t\tTotal committed heap usage (bytes)=392372224\n",
      "\tShuffle Errors\n",
      "\t\tBAD_ID=0\n",
      "\t\tCONNECTION=0\n",
      "\t\tIO_ERROR=0\n",
      "\t\tWRONG_LENGTH=0\n",
      "\t\tWRONG_MAP=0\n",
      "\t\tWRONG_REDUCE=0\n",
      "\tFile Input Format Counters \n",
      "\t\tBytes Read=216679\n",
      "\tFile Output Format Counters \n",
      "\t\tBytes Written=4015\n",
      "16/01/24 08:57:43 INFO streaming.StreamJob: Output directory: /w261/hw2/hw2_3_output\n"
     ]
    }
   ],
   "source": [
    "!cp mapper.py /data/w261/hw2/mapper.py; cp reducer.py /data/w261/hw2/reducer.py;\n",
    "!chmod +x /data/w261/hw2/mapper.py; chmod +x /data/w261/hw2/reducer.py;\n",
    "!hdfs dfs -rm -r /w261/hw2/hw2_3_output;\n",
    "!$HADOOP_HOME/bin/hadoop jar $HADOOP_HOME/lib/hadoop-*streaming*.jar -mapper mapper.py -file /data/w261/hw2/mapper.py -reducer reducer.py -file /data/w261/hw2/reducer.py -input /w261/hw2/enronemail_1h.txt -output /w261/hw2/hw2_3_output;"
   ]
  },
  {
   "cell_type": "code",
   "execution_count": 92,
   "metadata": {
    "collapsed": false
   },
   "outputs": [
    {
     "name": "stdout",
     "output_type": "stream",
     "text": [
      "0017.2003-12-18.GP\t1\t1\t0.999614803486\t0.000385196513989\r\n",
      "0017.2004-08-01.BG\t1\t0\t0\t0\r\n",
      "0017.2004-08-02.BG\t1\t1\t0\t0\r\n",
      "0018.1999-12-14.kaminski\t0\t0\t0\t0\r\n",
      "0018.2001-07-13.SA_and_HP\t1\t1\t0\t0\r\n",
      "0018.2003-12-18.GP\t1\t1\t0\t0\r\n",
      "-----------------------------------------------------\t\r\n",
      "feature size: 5663\t\r\n",
      "total document classified: 98\t\r\n",
      "total document correctly classified: 92\t\r\n",
      "Spam zero prob processed: 181300\t\r\n",
      "Non-Spam zero prob processed: 276850\t\r\n",
      "TPR: 0.8837\t\r\n",
      "FPR: 0.0182\t\r\n",
      "accuracy: 0.9388\t\r\n"
     ]
    }
   ],
   "source": [
    "# prediction result summary\n",
    "!hdfs dfs -cat /w261/hw2/hw2_3_output/part-00000 | tail -15"
   ]
  },
  {
   "cell_type": "markdown",
   "metadata": {},
   "source": [
    "Training Accuracy is 94%.  Training Error is 6.0%"
   ]
  },
  {
   "cell_type": "code",
   "execution_count": 94,
   "metadata": {
    "collapsed": false
   },
   "outputs": [],
   "source": [
    "# extract posterior probs\n",
    "import subprocess\n",
    "spam_posterior = []\n",
    "ham_posterior = []\n",
    "\n",
    "# grab the output from HDFS\n",
    "cat = subprocess.Popen([\"hadoop\", \"fs\", \"-cat\", '/w261/hw2/hw2_3_output/part-00000'], stdout=subprocess.PIPE)\n",
    "for line in cat.stdout:\n",
    "    line = line.strip()\n",
    "    if line == '': continue\n",
    "    lineArr = line.split('\\t')\n",
    "    if len(lineArr) != 5: continue\n",
    "    spam_posterior.append(float(lineArr[3]))\n",
    "    ham_posterior.append(float(lineArr[4]))"
   ]
  },
  {
   "cell_type": "code",
   "execution_count": 102,
   "metadata": {
    "collapsed": false
   },
   "outputs": [
    {
     "data": {
      "image/png": "[encoded data removed]",
      "text/plain": [
       "<matplotlib.figure.Figure at 0x3987d90>"
      ]
     },
     "metadata": {},
     "output_type": "display_data"
    }
   ],
   "source": [
    "%matplotlib inline\n",
    "import matplotlib.pyplot as plt\n",
    "from matplotlib.ticker import MultipleLocator\n",
    "\n",
    "plt.figure(figsize=(8, 4))\n",
    "plt.subplot(1, 2, 1)\n",
    "plt.hist(spam_posterior)\n",
    "plt.title(\"Posterior distribution for Spam Msg\")\n",
    "plt.subplot(1, 2, 2)\n",
    "plt.hist(ham_posterior)\n",
    "plt.title(\"Posterior distribution for Non-Spam Msg\")\n",
    "plt.show()"
   ]
  },
  {
   "cell_type": "markdown",
   "metadata": {},
   "source": [
    "In summary, because we are using training set to make predictions, it's very easy for the model to be over-confident.  Therefore we have lots of extreme probabilities, and few in the middle-ground."
   ]
  },
  {
   "cell_type": "markdown",
   "metadata": {},
   "source": [
    "* <b>HW2.4 Repeat HW2.3 with the following modification: use Laplace plus-one smoothing. Compare the misclassifcation error rates for 2.3 versus 2.4 and explain the differences.</b>"
   ]
  },
  {
   "cell_type": "code",
   "execution_count": 103,
   "metadata": {
    "collapsed": false
   },
   "outputs": [
    {
     "name": "stdout",
     "output_type": "stream",
     "text": [
      "Overwriting reducer.py\n"
     ]
    }
   ],
   "source": [
    "%%writefile reducer.py\n",
    "#!/usr/bin/python\n",
    "## reducer.py\n",
    "## Author: Kuan Lin\n",
    "## Description: reducer code for HW1.5\n",
    "\n",
    "import sys\n",
    "import re\n",
    "import math\n",
    "import string\n",
    "import subprocess\n",
    "\n",
    "files = sys.argv[1:]\n",
    "data=\"/w261/hw2/enronemail_1h.txt\"\n",
    "\n",
    "spam_word_counts = {}\n",
    "ham_word_counts = {}\n",
    "spam_total_words = 0\n",
    "ham_total_words = 0\n",
    "unique_words = set()\n",
    "spam_zero_count_processed = 0\n",
    "ham_zero_count_processed = 0\n",
    "\n",
    "# assume equal prior for spam and ham\n",
    "spam_prior = 0.44\n",
    "ham_prior = 0.56\n",
    "\n",
    "def findWordCount(doc, word):\n",
    "\tcount = 0\n",
    "\tfor w in doc.split(' '):\n",
    "\t\tif w == word: count += 1\n",
    "\treturn count\n",
    "\n",
    "def spamWordProb(word):\n",
    "\tcount = 0\n",
    "\tif word in spam_word_counts: count = spam_word_counts[word]\n",
    "\t# Applying laplace smoothing\n",
    "\treturn float(count+1)/float(spam_total_words+len(unique_words))\n",
    "\t#return float(count)/float(spam_total_words)\n",
    "\t\n",
    "def hamWordProb(word):\n",
    "\tcount = 0\n",
    "\tif word in ham_word_counts: count = ham_word_counts[word]\n",
    "\t# Applying laplace smoothing\n",
    "\treturn float(count+1)/float(ham_total_words+len(unique_words))\n",
    "\t#return float(count)/float(ham_total_words)\n",
    "\t\n",
    "def classifyWithWordList(document, word_list):\n",
    "\tglobal spam_zero_count_processed\n",
    "\tglobal ham_zero_count_processed\n",
    "\tspam_logprob = math.log(spam_prior)\n",
    "\tham_logprob = math.log(ham_prior)\n",
    "\tfor word in word_list:\n",
    "\t\t#pattern = re.compile('[\\s+]?(' + word + ')[\\s+]?')\n",
    "\t\tword_count = findWordCount(document, word)\n",
    "\t\tspam_word_prob = spamWordProb(word)\n",
    "\t\tham_word_prob = hamWordProb(word)\n",
    "\t\tif spam_word_prob > 0:\n",
    "\t\t\tspam_logprob += math.log(spam_word_prob)*word_count\n",
    "\t\telse:\n",
    "\t\t\tspam_zero_count_processed += 1\n",
    "\t\t\tspam_logprob += math.log(0.0001)*word_count\n",
    "\t\tif ham_word_prob > 0:\n",
    "\t\t\tham_logprob += math.log(ham_word_prob)*word_count\n",
    "\t\telse:\n",
    "\t\t\tham_zero_count_processed += 1\n",
    "\t\t\tham_logprob += math.log(0.0001)*word_count\n",
    "\t# recover probability by taking exponential\n",
    "\tspam_prob = math.e**spam_logprob\n",
    "\tham_prob = math.e**ham_logprob\n",
    "\tif spam_logprob > ham_logprob:\n",
    "\t\treturn (1, spam_prob, ham_prob)\n",
    "\telse:\n",
    "\t\treturn (0, spam_prob, ham_prob)\n",
    "\n",
    "for line in sys.stdin:\n",
    "    line = line.strip()\n",
    "    if line == \"\": continue\n",
    "\n",
    "    lineArr = line.split('\\t')\n",
    "    word = lineArr[0]\n",
    "    count = int(lineArr[1])\n",
    "    spam_flag = int(lineArr[2])\n",
    "\n",
    "    if spam_flag == 1:\n",
    "        if word == \"class_total_words\":\n",
    "            spam_total_words += count\n",
    "            continue\n",
    "        if word in spam_word_counts:\n",
    "            spam_word_counts[word] += count\n",
    "        else:\n",
    "            spam_word_counts[word] = count\n",
    "    else:\n",
    "        if word == \"class_total_words\":\n",
    "            ham_total_words += count\n",
    "            continue\n",
    "        if word in ham_word_counts:\n",
    "            ham_word_counts[word] += count\n",
    "        else:\n",
    "            ham_word_counts[word] = count\n",
    "\n",
    "# perform classification with all words\n",
    "unique_words = set([k for k in spam_word_counts.keys()] + [k for k in ham_word_counts.keys()])\n",
    "total_msg_classified = 0\n",
    "total_msg_correct = 0\n",
    "tpc = 0\n",
    "fpc = 0\n",
    "tnc = 0\n",
    "fnc = 0\n",
    "\n",
    "cat = subprocess.Popen([\"hadoop\", \"fs\", \"-cat\", data], stdout=subprocess.PIPE)\n",
    "for line in cat.stdout:\n",
    "\tline = line.strip()\n",
    "\tlineArr = line.split('\\t')\n",
    "\t# check data integrity.  each valid line should have 4 fields, with second field equals either 0 or 1\n",
    "\tif len(lineArr) != 4 or (lineArr[1] != \"0\" and lineArr[1] != \"1\"): continue\n",
    "\tmsg_id = lineArr[0]\n",
    "\tspam_flag = lineArr[1]\n",
    "\tsubject_body = lineArr[2] + ' ' + lineArr[3]\n",
    "\t# remove punctuations\n",
    "\tsubject_body = subject_body.translate(string.maketrans(\"\",\"\"), string.punctuation).strip().lower()\n",
    "\tpredicted_results = classifyWithWordList(subject_body, unique_words)\n",
    "\tspam_prob = predicted_results[1]\n",
    "\tham_prob = predicted_results[2]\n",
    "\tnorm = spam_prob + ham_prob\n",
    "\tif norm > 0:\n",
    "\t\tspam_prob = spam_prob / norm\n",
    "\t\tham_prob = ham_prob / norm\n",
    "\telse:\n",
    "\t\tspam_prob = 0\n",
    "\t\tham_prob = 0\n",
    "\tspam_flag_predicted = str(predicted_results[0])\n",
    "\ttotal_msg_classified += 1\n",
    "\tif spam_flag == \"1\":\n",
    "\t\tif spam_flag_predicted == \"1\": tpc += 1\n",
    "\t\telse: fnc += 1\n",
    "\telse:\n",
    "\t\tif spam_flag_predicted == \"1\": fpc += 1\n",
    "\t\telse: tnc += 1\n",
    "\tif spam_flag_predicted == spam_flag: total_msg_correct += 1\n",
    "\tprint '\\t'.join([msg_id, spam_flag, spam_flag_predicted, str(spam_prob), str(ham_prob)])\n",
    "print \"-----------------------------------------------------\"\n",
    "print \"feature size: \" + str(len(unique_words))\n",
    "print \"total document classified: \" + str(total_msg_classified)\n",
    "print \"total document correctly classified: \" + str(total_msg_correct)\n",
    "print \"Spam zero prob processed: %s\" % spam_zero_count_processed\n",
    "print \"Non-Spam zero prob processed: %s\" % ham_zero_count_processed\n",
    "print \"TPR: %.4f\"%(float(tpc)/float(tpc+fnc))\n",
    "print \"FPR: %.4f\"%(float(fpc)/float(fpc+tnc))\n",
    "print \"accuracy: %.4f\"%(float(total_msg_correct)/float(total_msg_classified))"
   ]
  },
  {
   "cell_type": "code",
   "execution_count": 104,
   "metadata": {
    "collapsed": false
   },
   "outputs": [
    {
     "name": "stdout",
     "output_type": "stream",
     "text": [
      "rm: `/w261/hw2/hw2_4_output': No such file or directory\n",
      "16/01/24 09:32:17 WARN streaming.StreamJob: -file option is deprecated, please use generic option -files instead.\n",
      "packageJobJar: [/data/w261/hw2/mapper.py, /data/w261/hw2/reducer.py] [/usr/lib/hadoop/lib/hadoop-streaming-2.6.0.jar] /tmp/streamjob3103003523537383682.jar tmpDir=null\n",
      "16/01/24 09:32:24 INFO client.RMProxy: Connecting to ResourceManager at /0.0.0.0:8032\n",
      "16/01/24 09:32:26 INFO client.RMProxy: Connecting to ResourceManager at /0.0.0.0:8032\n",
      "16/01/24 09:32:29 INFO mapred.FileInputFormat: Total input paths to process : 1\n",
      "16/01/24 09:32:29 INFO mapreduce.JobSubmitter: number of splits:2\n",
      "16/01/24 09:32:30 INFO mapreduce.JobSubmitter: Submitting tokens for job: job_1453604265894_0025\n",
      "16/01/24 09:32:32 INFO impl.YarnClientImpl: Submitted application application_1453604265894_0025\n",
      "16/01/24 09:32:32 INFO mapreduce.Job: The url to track the job: http://ip-172-31-55-170.ec2.internal:8088/proxy/application_1453604265894_0025/\n",
      "16/01/24 09:32:32 INFO mapreduce.Job: Running job: job_1453604265894_0025\n",
      "16/01/24 09:32:56 INFO mapreduce.Job: Job job_1453604265894_0025 running in uber mode : false\n",
      "16/01/24 09:32:56 INFO mapreduce.Job:  map 0% reduce 0%\n",
      "16/01/24 09:33:26 INFO mapreduce.Job:  map 33% reduce 0%\n",
      "16/01/24 09:33:27 INFO mapreduce.Job:  map 67% reduce 0%\n",
      "16/01/24 09:33:29 INFO mapreduce.Job:  map 83% reduce 0%\n",
      "16/01/24 09:33:32 INFO mapreduce.Job:  map 100% reduce 0%\n",
      "16/01/24 09:33:50 INFO mapreduce.Job:  map 100% reduce 100%\n",
      "16/01/24 09:35:41 INFO mapreduce.Job: Job job_1453604265894_0025 completed successfully\n",
      "16/01/24 09:35:41 INFO mapreduce.Job: Counters: 49\n",
      "\tFile System Counters\n",
      "\t\tFILE: Number of bytes read=111973\n",
      "\t\tFILE: Number of bytes written=565993\n",
      "\t\tFILE: Number of read operations=0\n",
      "\t\tFILE: Number of large read operations=0\n",
      "\t\tFILE: Number of write operations=0\n",
      "\t\tHDFS: Number of bytes read=216879\n",
      "\t\tHDFS: Number of bytes written=3961\n",
      "\t\tHDFS: Number of read operations=9\n",
      "\t\tHDFS: Number of large read operations=0\n",
      "\t\tHDFS: Number of write operations=2\n",
      "\tJob Counters \n",
      "\t\tLaunched map tasks=2\n",
      "\t\tLaunched reduce tasks=1\n",
      "\t\tData-local map tasks=2\n",
      "\t\tTotal time spent by all maps in occupied slots (ms)=62558\n",
      "\t\tTotal time spent by all reduces in occupied slots (ms)=128555\n",
      "\t\tTotal time spent by all map tasks (ms)=62558\n",
      "\t\tTotal time spent by all reduce tasks (ms)=128555\n",
      "\t\tTotal vcore-seconds taken by all map tasks=62558\n",
      "\t\tTotal vcore-seconds taken by all reduce tasks=128555\n",
      "\t\tTotal megabyte-seconds taken by all map tasks=64059392\n",
      "\t\tTotal megabyte-seconds taken by all reduce tasks=131640320\n",
      "\tMap-Reduce Framework\n",
      "\t\tMap input records=101\n",
      "\t\tMap output records=8280\n",
      "\t\tMap output bytes=95407\n",
      "\t\tMap output materialized bytes=111979\n",
      "\t\tInput split bytes=200\n",
      "\t\tCombine input records=0\n",
      "\t\tCombine output records=0\n",
      "\t\tReduce input groups=5664\n",
      "\t\tReduce shuffle bytes=111979\n",
      "\t\tReduce input records=8280\n",
      "\t\tReduce output records=107\n",
      "\t\tSpilled Records=16560\n",
      "\t\tShuffled Maps =2\n",
      "\t\tFailed Shuffles=0\n",
      "\t\tMerged Map outputs=2\n",
      "\t\tGC time elapsed (ms)=998\n",
      "\t\tCPU time spent (ms)=8950\n",
      "\t\tPhysical memory (bytes) snapshot=550674432\n",
      "\t\tVirtual memory (bytes) snapshot=7589036032\n",
      "\t\tTotal committed heap usage (bytes)=392372224\n",
      "\tShuffle Errors\n",
      "\t\tBAD_ID=0\n",
      "\t\tCONNECTION=0\n",
      "\t\tIO_ERROR=0\n",
      "\t\tWRONG_LENGTH=0\n",
      "\t\tWRONG_MAP=0\n",
      "\t\tWRONG_REDUCE=0\n",
      "\tFile Input Format Counters \n",
      "\t\tBytes Read=216679\n",
      "\tFile Output Format Counters \n",
      "\t\tBytes Written=3961\n",
      "16/01/24 09:35:41 INFO streaming.StreamJob: Output directory: /w261/hw2/hw2_4_output\n"
     ]
    }
   ],
   "source": [
    "!cp mapper.py /data/w261/hw2/mapper.py; cp reducer.py /data/w261/hw2/reducer.py;\n",
    "!chmod +x /data/w261/hw2/mapper.py; chmod +x /data/w261/hw2/reducer.py;\n",
    "!hdfs dfs -rm -r /w261/hw2/hw2_4_output;\n",
    "!$HADOOP_HOME/bin/hadoop jar $HADOOP_HOME/lib/hadoop-*streaming*.jar -mapper mapper.py -file /data/w261/hw2/mapper.py -reducer reducer.py -file /data/w261/hw2/reducer.py -input /w261/hw2/enronemail_1h.txt -output /w261/hw2/hw2_4_output;"
   ]
  },
  {
   "cell_type": "code",
   "execution_count": 105,
   "metadata": {
    "collapsed": false
   },
   "outputs": [
    {
     "name": "stdout",
     "output_type": "stream",
     "text": [
      "0017.2003-12-18.GP\t1\t1\t0.999999529496\t4.70503735935e-07\r\n",
      "0017.2004-08-01.BG\t1\t1\t0\t0\r\n",
      "0017.2004-08-02.BG\t1\t1\t0\t0\r\n",
      "0018.1999-12-14.kaminski\t0\t0\t0\t0\r\n",
      "0018.2001-07-13.SA_and_HP\t1\t1\t0\t0\r\n",
      "0018.2003-12-18.GP\t1\t1\t0\t0\r\n",
      "-----------------------------------------------------\t\r\n",
      "feature size: 5663\t\r\n",
      "total document classified: 98\t\r\n",
      "total document correctly classified: 98\t\r\n",
      "Spam zero prob processed: 0\t\r\n",
      "Non-Spam zero prob processed: 0\t\r\n",
      "TPR: 1.0000\t\r\n",
      "FPR: 0.0000\t\r\n",
      "accuracy: 1.0000\t\r\n"
     ]
    }
   ],
   "source": [
    "# prediction result summary\n",
    "!hdfs dfs -cat /w261/hw2/hw2_4_output/part-00000 | tail -15"
   ]
  },
  {
   "cell_type": "markdown",
   "metadata": {},
   "source": [
    "Training Accuracy is 100% with Laplace Smoothing.  Training Error is 0%"
   ]
  },
  {
   "cell_type": "code",
   "execution_count": 106,
   "metadata": {
    "collapsed": true
   },
   "outputs": [],
   "source": [
    "# extract posterior probs\n",
    "import subprocess\n",
    "spam_posterior = []\n",
    "ham_posterior = []\n",
    "\n",
    "# grab output from hdfs\n",
    "cat = subprocess.Popen([\"hadoop\", \"fs\", \"-cat\", '/w261/hw2/hw2_4_output/part-00000'], stdout=subprocess.PIPE)\n",
    "for line in cat.stdout:\n",
    "    line = line.strip()\n",
    "    if line == '': continue\n",
    "    lineArr = line.split('\\t')\n",
    "    if len(lineArr) != 5: continue\n",
    "    spam_posterior.append(float(lineArr[3]))\n",
    "    ham_posterior.append(float(lineArr[4]))"
   ]
  },
  {
   "cell_type": "code",
   "execution_count": 107,
   "metadata": {
    "collapsed": false
   },
   "outputs": [
    {
     "data": {
      "image/png": "[encoded data removed]",
      "text/plain": [
       "<matplotlib.figure.Figure at 0x3120910>"
      ]
     },
     "metadata": {},
     "output_type": "display_data"
    }
   ],
   "source": [
    "%matplotlib inline\n",
    "import matplotlib.pyplot as plt\n",
    "from matplotlib.ticker import MultipleLocator\n",
    "\n",
    "plt.figure(figsize=(8, 4))\n",
    "plt.subplot(1, 2, 1)\n",
    "plt.hist(spam_posterior)\n",
    "plt.title(\"Posterior distribution for Spam Msg\")\n",
    "plt.subplot(1, 2, 2)\n",
    "plt.hist(ham_posterior)\n",
    "plt.title(\"Posterior distribution for Non-Spam Msg\")\n",
    "plt.show()"
   ]
  },
  {
   "cell_type": "markdown",
   "metadata": {},
   "source": [
    "With laplace smoothing, the posterior probability is even more extreme.  But this is because we are using training set to calculate prediction error.  In hold-out sets the posterior probability may not be so extreme.<br/>\n",
    "With laplace smoothing, the training error is zero, meaning that the model has fitted all of the variations in the training data.  With non-smoothing, I was using 0.001 as the default probability for any words not existed in spam or non-spam class training sets.  As such, the non-smoothed model can fit to less variations in the training set and therefore resulted in a slightly higher training error."
   ]
  },
  {
   "cell_type": "markdown",
   "metadata": {},
   "source": [
    "* <b>HW2.5. Repeat HW2.4. This time when modeling and classification ignore tokens with a frequency of less than three (3) in the training set. How does it affect the misclassifcation error of learnt naive multinomial Bayesian Classifier on the training dataset.</b>"
   ]
  },
  {
   "cell_type": "code",
   "execution_count": 108,
   "metadata": {
    "collapsed": false
   },
   "outputs": [
    {
     "name": "stdout",
     "output_type": "stream",
     "text": [
      "Overwriting reducer.py\n"
     ]
    }
   ],
   "source": [
    "%%writefile reducer.py\n",
    "#!/usr/bin/python\n",
    "## reducer.py\n",
    "## Author: Kuan Lin\n",
    "## Description: reducer code for HW1.5\n",
    "\n",
    "import sys\n",
    "import re\n",
    "import math\n",
    "import string\n",
    "import subprocess\n",
    "\n",
    "files = sys.argv[1:]\n",
    "data=\"/w261/hw2/enronemail_1h.txt\"\n",
    "\n",
    "spam_word_counts = {}\n",
    "ham_word_counts = {}\n",
    "spam_total_words = 0\n",
    "ham_total_words = 0\n",
    "unique_words = set()\n",
    "spam_zero_count_processed = 0\n",
    "ham_zero_count_processed = 0\n",
    "\n",
    "# assume equal prior for spam and ham\n",
    "spam_prior = 0.44\n",
    "ham_prior = 0.56\n",
    "\n",
    "def findWordCount(doc, word):\n",
    "\tcount = 0\n",
    "\tfor w in doc.split(' '):\n",
    "\t\tif w == word: count += 1\n",
    "\treturn count\n",
    "\n",
    "def spamWordProb(word):\n",
    "\tcount = 0\n",
    "\tif word in spam_word_counts: count = spam_word_counts[word]\n",
    "\t# ignore frequecy of less than 3\n",
    "\tif count < 3: count = 0\n",
    "\t# Applying laplace smoothing\n",
    "\treturn float(count+1)/float(spam_total_words+len(unique_words))\n",
    "\t#return float(count)/float(spam_total_words)\n",
    "\t\n",
    "def hamWordProb(word):\n",
    "\tcount = 0\n",
    "\tif word in ham_word_counts: count = ham_word_counts[word]\n",
    "\t# ignore frequecy of less than 3\n",
    "\tif count < 3: count = 0\n",
    "\t# Applying laplace smoothing\n",
    "\treturn float(count+1)/float(ham_total_words+len(unique_words))\n",
    "\t#return float(count)/float(ham_total_words)\n",
    "\t\n",
    "def classifyWithWordList(document, word_list):\n",
    "\tglobal spam_zero_count_processed\n",
    "\tglobal ham_zero_count_processed\n",
    "\tspam_logprob = math.log(spam_prior)\n",
    "\tham_logprob = math.log(ham_prior)\n",
    "\tfor word in word_list:\n",
    "\t\t#pattern = re.compile('[\\s+]?(' + word + ')[\\s+]?')\n",
    "\t\tword_count = findWordCount(document, word)\n",
    "\t\tspam_word_prob = spamWordProb(word)\n",
    "\t\tham_word_prob = hamWordProb(word)\n",
    "\t\tif spam_word_prob > 0:\n",
    "\t\t\tspam_logprob += math.log(spam_word_prob)*word_count\n",
    "\t\telse:\n",
    "\t\t\tspam_zero_count_processed += 1\n",
    "\t\t\tspam_logprob += math.log(0.0001)*word_count\n",
    "\t\tif ham_word_prob > 0:\n",
    "\t\t\tham_logprob += math.log(ham_word_prob)*word_count\n",
    "\t\telse:\n",
    "\t\t\tham_zero_count_processed += 1\n",
    "\t\t\tham_logprob += math.log(0.0001)*word_count\n",
    "\t\n",
    "\tspam_prob = math.e**spam_logprob\n",
    "\tham_prob = math.e**ham_logprob\n",
    "\tif spam_logprob > ham_logprob:\n",
    "\t\treturn (1, spam_prob, ham_prob)\n",
    "\telse:\n",
    "\t\treturn (0, spam_prob, ham_prob)\n",
    "\n",
    "for line in sys.stdin:\n",
    "    line = line.strip()\n",
    "    if line == \"\": continue\n",
    "\n",
    "    lineArr = line.split('\\t')\n",
    "    word = lineArr[0]\n",
    "    count = int(lineArr[1])\n",
    "    spam_flag = int(lineArr[2])\n",
    "\n",
    "    if spam_flag == 1:\n",
    "        if word == \"class_total_words\":\n",
    "            spam_total_words += count\n",
    "            continue\n",
    "        if word in spam_word_counts:\n",
    "            spam_word_counts[word] += count\n",
    "        else:\n",
    "            spam_word_counts[word] = count\n",
    "    else:\n",
    "        if word == \"class_total_words\":\n",
    "            ham_total_words += count\n",
    "            continue\n",
    "        if word in ham_word_counts:\n",
    "            ham_word_counts[word] += count\n",
    "        else:\n",
    "            ham_word_counts[word] = count\n",
    "\n",
    "# perform classification with all words\n",
    "unique_words = set([k for k in spam_word_counts.keys()] + [k for k in ham_word_counts.keys()])\n",
    "total_msg_classified = 0\n",
    "total_msg_correct = 0\n",
    "tpc = 0\n",
    "fpc = 0\n",
    "tnc = 0\n",
    "fnc = 0\n",
    "\n",
    "cat = subprocess.Popen([\"hadoop\", \"fs\", \"-cat\", data], stdout=subprocess.PIPE)\n",
    "for line in cat.stdout:\n",
    "\tline = line.strip()\n",
    "\tlineArr = line.split('\\t')\n",
    "\t# check data integrity.  each valid line should have 4 fields, with second field equals either 0 or 1\n",
    "\tif len(lineArr) != 4 or (lineArr[1] != \"0\" and lineArr[1] != \"1\"): continue\n",
    "\tmsg_id = lineArr[0]\n",
    "\tspam_flag = lineArr[1]\n",
    "\tsubject_body = lineArr[2] + ' ' + lineArr[3]\n",
    "\t# remove punctuations\n",
    "\tsubject_body = subject_body.translate(string.maketrans(\"\",\"\"), string.punctuation).strip().lower()\n",
    "\tpredicted_results = classifyWithWordList(subject_body, unique_words)\n",
    "\tspam_prob = predicted_results[1]\n",
    "\tham_prob = predicted_results[2]\n",
    "\tnorm = spam_prob + ham_prob\n",
    "\tif norm > 0:\n",
    "\t\tspam_prob = spam_prob / norm\n",
    "\t\tham_prob = ham_prob / norm\n",
    "\telse:\n",
    "\t\tspam_prob = 0\n",
    "\t\tham_prob = 0\n",
    "\tspam_flag_predicted = str(predicted_results[0])\n",
    "\ttotal_msg_classified += 1\n",
    "\tif spam_flag == \"1\":\n",
    "\t\tif spam_flag_predicted == \"1\": tpc += 1\n",
    "\t\telse: fnc += 1\n",
    "\telse:\n",
    "\t\tif spam_flag_predicted == \"1\": fpc += 1\n",
    "\t\telse: tnc += 1\n",
    "\tif spam_flag_predicted == spam_flag: total_msg_correct += 1\n",
    "\tprint '\\t'.join([msg_id, spam_flag, spam_flag_predicted, str(spam_prob), str(ham_prob)])\n",
    "print \"-----------------------------------------------------\"\n",
    "print \"feature size: \" + str(len(unique_words))\n",
    "print \"total document classified: \" + str(total_msg_classified)\n",
    "print \"total document correctly classified: \" + str(total_msg_correct)\n",
    "print \"Spam zero prob processed: %s\" % spam_zero_count_processed\n",
    "print \"Non-Spam zero prob processed: %s\" % ham_zero_count_processed\n",
    "print \"TPR: %.4f\"%(float(tpc)/float(tpc+fnc))\n",
    "print \"FPR: %.4f\"%(float(fpc)/float(fpc+tnc))\n",
    "print \"accuracy: %.4f\"%(float(total_msg_correct)/float(total_msg_classified))"
   ]
  },
  {
   "cell_type": "code",
   "execution_count": 109,
   "metadata": {
    "collapsed": false
   },
   "outputs": [
    {
     "name": "stdout",
     "output_type": "stream",
     "text": [
      "16/01/24 09:50:57 WARN streaming.StreamJob: -file option is deprecated, please use generic option -files instead.\n",
      "packageJobJar: [/data/w261/hw2/mapper.py, /data/w261/hw2/reducer.py] [/usr/lib/hadoop/lib/hadoop-streaming-2.6.0.jar] /tmp/streamjob3398854005381174200.jar tmpDir=null\n",
      "16/01/24 09:51:01 INFO client.RMProxy: Connecting to ResourceManager at /0.0.0.0:8032\n",
      "16/01/24 09:51:02 INFO client.RMProxy: Connecting to ResourceManager at /0.0.0.0:8032\n",
      "16/01/24 09:51:04 INFO mapred.FileInputFormat: Total input paths to process : 1\n",
      "16/01/24 09:51:04 INFO mapreduce.JobSubmitter: number of splits:2\n",
      "16/01/24 09:51:05 INFO mapreduce.JobSubmitter: Submitting tokens for job: job_1453604265894_0026\n",
      "16/01/24 09:51:06 INFO impl.YarnClientImpl: Submitted application application_1453604265894_0026\n",
      "16/01/24 09:51:06 INFO mapreduce.Job: The url to track the job: http://ip-172-31-55-170.ec2.internal:8088/proxy/application_1453604265894_0026/\n",
      "16/01/24 09:51:06 INFO mapreduce.Job: Running job: job_1453604265894_0026\n",
      "16/01/24 09:51:23 INFO mapreduce.Job: Job job_1453604265894_0026 running in uber mode : false\n",
      "16/01/24 09:51:23 INFO mapreduce.Job:  map 0% reduce 0%\n",
      "16/01/24 09:51:47 INFO mapreduce.Job:  map 33% reduce 0%\n",
      "16/01/24 09:51:49 INFO mapreduce.Job:  map 83% reduce 0%\n",
      "16/01/24 09:51:50 INFO mapreduce.Job:  map 100% reduce 0%\n",
      "16/01/24 09:52:06 INFO mapreduce.Job:  map 100% reduce 100%\n",
      "16/01/24 09:52:59 INFO mapreduce.Job: Job job_1453604265894_0026 completed successfully\n",
      "16/01/24 09:52:59 INFO mapreduce.Job: Counters: 49\n",
      "\tFile System Counters\n",
      "\t\tFILE: Number of bytes read=111973\n",
      "\t\tFILE: Number of bytes written=565993\n",
      "\t\tFILE: Number of read operations=0\n",
      "\t\tFILE: Number of large read operations=0\n",
      "\t\tFILE: Number of write operations=0\n",
      "\t\tHDFS: Number of bytes read=216879\n",
      "\t\tHDFS: Number of bytes written=3965\n",
      "\t\tHDFS: Number of read operations=9\n",
      "\t\tHDFS: Number of large read operations=0\n",
      "\t\tHDFS: Number of write operations=2\n",
      "\tJob Counters \n",
      "\t\tLaunched map tasks=2\n",
      "\t\tLaunched reduce tasks=1\n",
      "\t\tData-local map tasks=2\n",
      "\t\tTotal time spent by all maps in occupied slots (ms)=46565\n",
      "\t\tTotal time spent by all reduces in occupied slots (ms)=66880\n",
      "\t\tTotal time spent by all map tasks (ms)=46565\n",
      "\t\tTotal time spent by all reduce tasks (ms)=66880\n",
      "\t\tTotal vcore-seconds taken by all map tasks=46565\n",
      "\t\tTotal vcore-seconds taken by all reduce tasks=66880\n",
      "\t\tTotal megabyte-seconds taken by all map tasks=47682560\n",
      "\t\tTotal megabyte-seconds taken by all reduce tasks=68485120\n",
      "\tMap-Reduce Framework\n",
      "\t\tMap input records=101\n",
      "\t\tMap output records=8280\n",
      "\t\tMap output bytes=95407\n",
      "\t\tMap output materialized bytes=111979\n",
      "\t\tInput split bytes=200\n",
      "\t\tCombine input records=0\n",
      "\t\tCombine output records=0\n",
      "\t\tReduce input groups=5664\n",
      "\t\tReduce shuffle bytes=111979\n",
      "\t\tReduce input records=8280\n",
      "\t\tReduce output records=107\n",
      "\t\tSpilled Records=16560\n",
      "\t\tShuffled Maps =2\n",
      "\t\tFailed Shuffles=0\n",
      "\t\tMerged Map outputs=2\n",
      "\t\tGC time elapsed (ms)=739\n",
      "\t\tCPU time spent (ms)=10120\n",
      "\t\tPhysical memory (bytes) snapshot=553492480\n",
      "\t\tVirtual memory (bytes) snapshot=7593340928\n",
      "\t\tTotal committed heap usage (bytes)=392372224\n",
      "\tShuffle Errors\n",
      "\t\tBAD_ID=0\n",
      "\t\tCONNECTION=0\n",
      "\t\tIO_ERROR=0\n",
      "\t\tWRONG_LENGTH=0\n",
      "\t\tWRONG_MAP=0\n",
      "\t\tWRONG_REDUCE=0\n",
      "\tFile Input Format Counters \n",
      "\t\tBytes Read=216679\n",
      "\tFile Output Format Counters \n",
      "\t\tBytes Written=3965\n",
      "16/01/24 09:52:59 INFO streaming.StreamJob: Output directory: /w261/hw2/hw2_5_output\n"
     ]
    }
   ],
   "source": [
    "!cp mapper.py /data/w261/hw2/mapper.py; cp reducer.py /data/w261/hw2/reducer.py;\n",
    "!chmod +x /data/w261/hw2/mapper.py; chmod +x /data/w261/hw2/reducer.py;\n",
    "#!hdfs dfs -rm -r /w261/hw2/hw2_5_output;\n",
    "!$HADOOP_HOME/bin/hadoop jar $HADOOP_HOME/lib/hadoop-*streaming*.jar -mapper mapper.py -file /data/w261/hw2/mapper.py -reducer reducer.py -file /data/w261/hw2/reducer.py -input /w261/hw2/enronemail_1h.txt -output /w261/hw2/hw2_5_output;"
   ]
  },
  {
   "cell_type": "code",
   "execution_count": 110,
   "metadata": {
    "collapsed": false
   },
   "outputs": [
    {
     "name": "stdout",
     "output_type": "stream",
     "text": [
      "0017.2003-12-18.GP\t1\t1\t0.999983062144\t1.69378555673e-05\r\n",
      "0017.2004-08-01.BG\t1\t0\t0\t0\r\n",
      "0017.2004-08-02.BG\t1\t1\t0\t0\r\n",
      "0018.1999-12-14.kaminski\t0\t0\t0\t0\r\n",
      "0018.2001-07-13.SA_and_HP\t1\t1\t0\t0\r\n",
      "0018.2003-12-18.GP\t1\t1\t0\t0\r\n",
      "-----------------------------------------------------\t\r\n",
      "feature size: 5663\t\r\n",
      "total document classified: 98\t\r\n",
      "total document correctly classified: 96\t\r\n",
      "Spam zero prob processed: 0\t\r\n",
      "Non-Spam zero prob processed: 0\t\r\n",
      "TPR: 0.9535\t\r\n",
      "FPR: 0.0000\t\r\n",
      "accuracy: 0.9796\t\r\n"
     ]
    }
   ],
   "source": [
    "# prediction result summary\n",
    "!hdfs dfs -cat /w261/hw2/hw2_5_output/part-00000 | tail -15"
   ]
  },
  {
   "cell_type": "markdown",
   "metadata": {},
   "source": [
    "Training Accuracy is 98% by ignoring token with frequency < 3, and applying Laplace Smoothing.  Training Error is 2%"
   ]
  },
  {
   "cell_type": "code",
   "execution_count": 112,
   "metadata": {
    "collapsed": false
   },
   "outputs": [
    {
     "data": {
      "image/png": "[encoded data removed]",
      "text/plain": [
       "<matplotlib.figure.Figure at 0x3120d90>"
      ]
     },
     "metadata": {},
     "output_type": "display_data"
    }
   ],
   "source": [
    "# extract posterior probs\n",
    "import subprocess\n",
    "spam_posterior = []\n",
    "ham_posterior = []\n",
    "\n",
    "cat = subprocess.Popen([\"hadoop\", \"fs\", \"-cat\", '/w261/hw2/hw2_5_output/part-00000'], stdout=subprocess.PIPE)\n",
    "for line in cat.stdout:\n",
    "    line = line.strip()\n",
    "    if line == '': continue\n",
    "    lineArr = line.split('\\t')\n",
    "    if len(lineArr) != 5: continue\n",
    "    spam_posterior.append(float(lineArr[3]))\n",
    "    ham_posterior.append(float(lineArr[4]))\n",
    "    \n",
    "%matplotlib inline\n",
    "import matplotlib.pyplot as plt\n",
    "from matplotlib.ticker import MultipleLocator\n",
    "\n",
    "plt.figure(figsize=(8, 4))\n",
    "plt.subplot(1, 2, 1)\n",
    "plt.hist(spam_posterior)\n",
    "plt.title(\"Posterior distribution for Spam Msg\")\n",
    "plt.subplot(1, 2, 2)\n",
    "plt.hist(ham_posterior)\n",
    "plt.title(\"Posterior distribution for Non-Spam Msg\")\n",
    "plt.show()"
   ]
  },
  {
   "cell_type": "markdown",
   "metadata": {},
   "source": [
    "By ignoring tokens whose freqencies are less than 3, the posterior probability distributions are less extreme than ones using all tokens.  Training error increases slightly as the model now does not completeley overfit the training data."
   ]
  },
  {
   "cell_type": "markdown",
   "metadata": {
    "collapsed": true
   },
   "source": [
    "* <b>HW2.6 Benchmark your code with the Python SciKit-Learn implementation of the multinomial Naive Bayes algorithm\n",
    "* Run the Multinomial Naive Bayes algorithm (using default settings) from SciKit-Learn over the same training data used in HW2.5 and report the misclassification error (please note some data preparation might be needed to get the Multinomial Naive Bayes algorithm from SkiKit-Learn to run over this dataset)\n",
    "* Prepare a table to present your results, where rows correspond to approach used (SkiKit-Learn versus your Hadoop implementation) and the column presents the training misclassification error\n",
    "* Explain/justify any differences in terms of training error rates over the dataset in HW2.5 between your Multinomial Naive Bayes implementation (in Map Reduce) versus the Multinomial Naive Bayes implementation in SciKit-Learn</b>"
   ]
  },
  {
   "cell_type": "code",
   "execution_count": 1,
   "metadata": {
    "collapsed": false
   },
   "outputs": [
    {
     "name": "stdout",
     "output_type": "stream",
     "text": [
      "MultinomialNB Accuracy: 1.0000\n",
      "BernoulliNB Accuracy: 0.7857\n"
     ]
    }
   ],
   "source": [
    "data = \"enronemail_1h.txt\"\n",
    "\n",
    "import string\n",
    "import numpy as np\n",
    "from sklearn.naive_bayes import BernoulliNB\n",
    "from sklearn.naive_bayes import MultinomialNB\n",
    "from sklearn.feature_extraction.text import *\n",
    "\n",
    "train_data_raw = []\n",
    "train_labels = []\n",
    "\n",
    "# load data from file\n",
    "for line in open(data, 'r'):\n",
    "    line = line.strip().lower()\n",
    "    if line == \"\": continue\n",
    "    lineArr = line.split('\\t')\n",
    "    if len(lineArr) != 4 or (lineArr[1] != \"0\" and lineArr[1] != \"1\"): continue\n",
    "    spam_flag = lineArr[1]\n",
    "    subject_body = lineArr[2] + ' ' + lineArr[3]\n",
    "    subject_body = subject_body.translate(string.maketrans(\"\",\"\"), string.punctuation).strip().lower()\n",
    "    train_data_raw.append(subject_body)\n",
    "    train_labels.append(spam_flag)\n",
    "\n",
    "# fit with count vectorizer\n",
    "train_data = CountVectorizer().fit_transform(train_data_raw)\n",
    "#print train_data.shape\n",
    "\n",
    "# Multinomial NB with default settings:\n",
    "multiNB_train_accuracy = MultinomialNB().fit(train_data, train_labels).score(train_data, train_labels)\n",
    "print \"MultinomialNB Accuracy: %.4f\" % multiNB_train_accuracy\n",
    "\n",
    "# Bernouli NB with default settings:\n",
    "bernoulliNB_train_accuracy = BernoulliNB().fit(train_data, train_labels).score(train_data, train_labels)\n",
    "print \"BernoulliNB Accuracy: %.4f\" % bernoulliNB_train_accuracy"
   ]
  },
  {
   "cell_type": "markdown",
   "metadata": {},
   "source": [
    "The above code obtains classification accuracy scores for MultinomialNB and BernoulliNB classifier.  The accuracy score for our custom-built MultinomialNB is obtained previously.  Training error is just 1-accuracy.  Thus:\n",
    "\n",
    "<table>\n",
    "<tr><th></th><th>Train Accuracy</th><th>Train Error</th></tr>\n",
    "<tr><th>Sklearn MultinomialNB</th><td>1.00</td><td>0.00</td></tr>\n",
    "<tr><th>Sklearn BernoulliNB</th><td>0.7857</td><td>0.2143</td></tr>\n",
    "<tr><th>Custom MultinomialNB with Laplace Smoothing</th><td>1.00</td><td>0.00</td></tr>\n",
    "<tr><th>Custom MultinomialNB with Laplace Smoothing and ignoring token freq less than 3</th><td>0.98</td><td>0.02</td></tr>\n",
    "<tr><th>Custom MultinomialNB No Smoothing</th><td>0.94</td><td>0.06</td></tr>\n",
    "</table>\n",
    "\n",
    "* Since we are calculating error rate using training data, it is not surprising that the MultinomialNB from Sklearn and our own custom-built model achieved zero training error.  This means that both models can explain all of the variations in the training data.  However, this does not gaurantee that the model will perform as well on future data.\n",
    "* BernoulliNB model performs worse because it uses less information from the training data.  The BernoulliNB model only looks at if a term appears in a document, and does not take into account of how many times the term appear in the same document.  This will cause the BernoulliNB model to be unable to distinquish documents with the same words but with different frequencies."
   ]
  },
  {
   "cell_type": "markdown",
   "metadata": {},
   "source": [
    "* <b>HHW 2.6.1 OPTIONAL (note this exercise is a stretch HW and optional)\n",
    "* Run the Bernoulli Naive Bayes algorithm from SciKit-Learn (using default settings) over the same training data used in HW2.6 and report the misclassification error \n",
    "* Discuss the performance differences in terms of misclassification error rates over the dataset in HW2.5 between the  Multinomial Naive Bayes implementation in SciKit-Learn with the  Bernoulli Naive Bayes implementation in SciKit-Learn. Why such big differences. Explain.\n",
    "* Which approach to Naive Bayes would you recommend for SPAM detection? Justify your selection.</b>"
   ]
  },
  {
   "cell_type": "markdown",
   "metadata": {},
   "source": [
    "Result for Bernoulli Naive Bayes model is presented together in the above cell in HW2.6.  The main reason why the Bernoulli model performsly relatively poorly is because 1.) it does not account for relative frequency and only accounts the presence/omission of words 2.) it explicitly penalize omission of words, which is not optimal for Spam classification (omission of non-spam words should not increase the probability of a message being spam).  For these reasons we should select the Multinomial approach over the Bernoulli approach in spam classification."
   ]
  },
  {
   "cell_type": "code",
   "execution_count": null,
   "metadata": {
    "collapsed": true
   },
   "outputs": [],
   "source": []
  }
 ],
 "metadata": {
  "kernelspec": {
   "display_name": "Python 2",
   "language": "python",
   "name": "python2"
  },
  "language_info": {
   "codemirror_mode": {
    "name": "ipython",
    "version": 2
   },
   "file_extension": ".py",
   "mimetype": "text/x-python",
   "name": "python",
   "nbconvert_exporter": "python",
   "pygments_lexer": "ipython2",
   "version": "2.7.5"
  }
 },
 "nbformat": 4,
 "nbformat_minor": 0
}
