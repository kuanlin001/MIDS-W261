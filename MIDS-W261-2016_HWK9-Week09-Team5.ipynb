{
 "cells": [
  {
   "cell_type": "markdown",
   "metadata": {},
   "source": [
    "# HW6, DATSCI W261\n",
    "\n",
    "Team: Kuan Lin, Alejandro J. Rojas, Ricardo Barrera<br/>\n",
    "Emails: kuanlin@ischool.berkeley.edu, ale@ischool.berkeley.edu, ricardofrank@ischool.berkeley.edu<br/>\n",
    "Time of Initial Submission: 8:00 AM PST, Thursday, March 19, 2016<br/>\n",
    "W261-1, Spring 2016 Week 9 Homework"
   ]
  },
  {
   "cell_type": "markdown",
   "metadata": {},
   "source": [
    "# HW 9.0: Short answer questions\n",
    "\n",
    "What is PageRank and what is it used for in the context of web search?\n",
    "What modifications have to be made to the webgraph in order to leverage the machinery of Markov Chains to \n",
    "compute the steady stade distibuton?<br/>\n",
    "OPTIONAL: In topic-specific pagerank, how can we insure that the irreducible property is satified? (HINT: see HW9.4)"
   ]
  },
  {
   "cell_type": "markdown",
   "metadata": {},
   "source": [
    "#### Answer:\n",
    "\n",
    "PageRank is a way to rank importance of nodes in a network.  By modeling the transition within a network as a Markov process, PageRank can be derived by finding the left eigenvector of the transition matrix, which can be interpreted as the steady-state probability of each node.  Nodes with higher steady-state probability is therefore ranked higher.  In the context of web search, the 'transition' can be interpreted as a person surfing among many webpages, and the resulting steady-state probability is the probability of the surfer visiting a specific page.  In addition, the algorithm needs the following modifications before applying to webgraphs:\n",
    "\n",
    "- Redistribution of weights from dangling nodes (nodes with no outlinks).  This is to ensure total probabilities sum up to one.\n",
    "- Teleportation: This is a small probability that a user would randomly jump to another webpage rather than via following a link.\n",
    "- For topic-specific PageRank, we can ensure graph irreducibility by removing nodes unreachable within each topic"
   ]
  },
  {
   "cell_type": "markdown",
   "metadata": {},
   "source": [
    "# HW 9.1: MRJob implementation of basic PageRank\n",
    "\n",
    "Write a basic MRJob implementation of the iterative PageRank algorithm\n",
    "that takes sparse adjacency lists as input (as explored in HW 7).\n",
    "Make sure that you implementation utilizes teleportation (1-damping/the number of nodes in the network), \n",
    "and further, distributes the mass of dangling nodes with each iteration\n",
    "so that the output of each iteration is correctly normalized (sums to 1).\n",
    "[NOTE: The PageRank algorithm assumes that a random surfer (walker), starting from a random web page,\n",
    "chooses the next page to which it will move by clicking at random, with probability d,\n",
    "one of the hyperlinks in the current page. This probability is represented by a so-called\n",
    "‘damping factor’ d, where d ∈ (0, 1). Otherwise, with probability (1 − d), the surfer\n",
    "jumps to any web page in the network. If a page is a dangling end, meaning it has no\n",
    "outgoing hyperlinks, the random surfer selects an arbitrary web page from a uniform\n",
    "distribution and “teleports” to that page]\n",
    "\n",
    "\n",
    "As you build your code, use the test data\n",
    "\n",
    "s3://ucb-mids-mls-networks/PageRank-test.txt\n",
    "Or under the Data Subfolder for HW7 on Dropbox with the same file name. \n",
    "(On Dropbox https://www.dropbox.com/sh/2c0k5adwz36lkcw/AAAAKsjQfF9uHfv-X9mCqr9wa?dl=0)\n",
    "\n",
    "with teleportation parameter set to 0.15 (1-d, where d, the damping factor is set to 0.85), and crosscheck\n",
    "your work with the true result, displayed in the first image\n",
    "in the Wikipedia article:\n",
    "\n",
    "https://en.wikipedia.org/wiki/PageRank\n",
    "\n",
    "and here for reference are the corresponding PageRank probabilities:\n",
    "\n",
    "<pre>\n",
    "A,0.033\n",
    "B,0.384\n",
    "C,0.343\n",
    "D,0.039\n",
    "E,0.081\n",
    "F,0.039\n",
    "G,0.016\n",
    "H,0.016\n",
    "I,0.016\n",
    "J,0.016\n",
    "K,0.016\n",
    "</pre>"
   ]
  },
  {
   "cell_type": "code",
   "execution_count": 15,
   "metadata": {
    "collapsed": false
   },
   "outputs": [
    {
     "name": "stdout",
     "output_type": "stream",
     "text": [
      "Overwriting pageRank.py\n"
     ]
    }
   ],
   "source": [
    "%%writefile pageRank.py\n",
    "from mrjob.job import MRJob\n",
    "from mrjob.step import MRStep\n",
    "#from mrjob.protocol import ReprProtocol\n",
    "#from mrjob.protocol import RawProtocol\n",
    "\n",
    "class PageRank(MRJob):\n",
    "    \n",
    "    #OUTPUT_PROTOCOL = ReprProtocol\n",
    "    \n",
    "    def configure_options(self):\n",
    "        super(PageRank, self).configure_options()\n",
    "\n",
    "        self.add_passthrough_option(\n",
    "            '--prob-norm-factor', dest='prob_norm_factor', default=0.0, type='float',\n",
    "            help='normalization factor for node weights')\n",
    "\n",
    "        self.add_passthrough_option(\n",
    "            '--damping-factor', dest='damping_factor', default=0.85,\n",
    "            type='float',\n",
    "            help='probability a web surfer will continue clicking on links')\n",
    "        \n",
    "        self.add_passthrough_option(\n",
    "            '--total-nodes', dest='total_nodes', default=-1,\n",
    "            type='int',\n",
    "            help='total number of nodes in the graph')\n",
    "        \n",
    "        self.add_passthrough_option(\n",
    "            '--loss-mass', dest='loss_mass', default=0.0,\n",
    "            type='float',\n",
    "            help='loss mass that needs to be redistributed')\n",
    "        \n",
    "        self.add_passthrough_option(\n",
    "            '--counter-precision', dest='counter_precision', default=6,\n",
    "            type='int',\n",
    "            help='number of decimal points to preserve when using counter to store floats')\n",
    "        \n",
    "        self.add_passthrough_option(\n",
    "            '--prank-chg-thold', dest='prank_chg_thold', default=0.001,\n",
    "            type='float',\n",
    "            help='threshold for change in PageRank value to continue iteration')\n",
    "        \n",
    "        self.add_passthrough_option(\n",
    "            '--is-final-iter', dest='is_final_iter', default=0,\n",
    "            type='int',\n",
    "            help='1 indicates final iteration which needs to apply just the mapper.')\n",
    "    \n",
    "    def sendScores(self, _, line):\n",
    "        # Mapper, send score to each outline\n",
    "        \n",
    "        if self.options.total_nodes == -1:\n",
    "            # accoumate total node numbers\n",
    "            self.increment_counter('prank', 'total_nodes', 1)\n",
    "        \n",
    "        lineArr = line.strip().split('\\t')\n",
    "        \n",
    "        if '[' not in line: # original input\n",
    "            # first iteration, don't have total node numbers yet.\n",
    "            # initialize pageRank to 1.0, and will have to normalize later\n",
    "            node_weight = 1.0\n",
    "            node_id = lineArr[0]\n",
    "            outlinks = eval(lineArr[1])\n",
    "            self.increment_counter('prank', 'prod_norm_factor', 1)\n",
    "        else:\n",
    "            node_id = lineArr[0].replace('\"', '')\n",
    "            payload = eval(lineArr[1])\n",
    "            outlinks = payload[0]\n",
    "            node_weight = payload[1]\n",
    "            if self.options.prob_norm_factor > 0: # need to re-normalize weights so they sum up to 1\n",
    "                node_weight = node_weight / self.options.prob_norm_factor\n",
    "                \n",
    "            if self.options.total_nodes != -1:\n",
    "                # accounts for teleportation and dangling nodes\n",
    "                node_weight = (1-self.options.damping_factor)*(1.0/self.options.total_nodes) + self.options.damping_factor*(self.options.loss_mass/self.options.total_nodes + node_weight)\n",
    "        \n",
    "        if self.options.is_final_iter == 1:\n",
    "            yield node_id, (outlinks, round(node_weight, 4))\n",
    "        else:\n",
    "            yield node_id, ('node', outlinks, node_weight) # original node info\n",
    "            if len(outlinks) == 0:\n",
    "                # dangling nodes, increment loss mass counter\n",
    "                self.increment_counter('prank', 'loss_mass', int(node_weight*(10**self.options.counter_precision)))\n",
    "            else:\n",
    "                for out_node in outlinks:\n",
    "                    yield out_node, ('score', 1.0*node_weight/len(outlinks), self.options.counter_precision) # new score\n",
    "                    \n",
    "    def sendScoreCombinder(self, nodeId, payload):\n",
    "        total_new_score = 0.0\n",
    "        for data in payload:\n",
    "            if data[0] == 'node':\n",
    "                yield nodeId, data\n",
    "            else:\n",
    "                total_new_score += data[1]\n",
    "        if total_new_score > 0:\n",
    "            yield nodeId, ('score', total_new_score)\n",
    "                \n",
    "    def receive_scores(self, nodeId, payload):\n",
    "        prev_score = 0.0\n",
    "        outlinks = {}\n",
    "        total_new_score = 0.0\n",
    "        \n",
    "        for data in payload:\n",
    "            if data[0] == 'node':\n",
    "                outlinks = data[1]\n",
    "                prev_score = data[2]\n",
    "            else:\n",
    "                total_new_score += data[1]\n",
    "                      \n",
    "        if abs(total_new_score-prev_score) > self.options.prank_chg_thold:\n",
    "            self.increment_counter('prank', 'chg_over_thold', 1)\n",
    "        \n",
    "        yield nodeId, (outlinks, round(total_new_score, 6))\n",
    "        \n",
    "    def steps(self):\n",
    "        if self.options.is_final_iter == 1:\n",
    "            return [MRStep(mapper=self.sendScores)]\n",
    "        else:\n",
    "            return [MRStep(mapper=self.sendScores, combiner=self.sendScoreCombinder, reducer=self.receive_scores)]\n",
    "        "
   ]
  },
  {
   "cell_type": "markdown",
   "metadata": {},
   "source": [
    "#### Page Rank Driver"
   ]
  },
  {
   "cell_type": "code",
   "execution_count": 10,
   "metadata": {
    "collapsed": false,
    "scrolled": true
   },
   "outputs": [
    {
     "name": "stdout",
     "output_type": "stream",
     "text": [
      "The autoreload extension is already loaded. To reload it, use:\n",
      "  %reload_ext autoreload\n"
     ]
    }
   ],
   "source": [
    "%load_ext autoreload\n",
    "%autoreload 2\n",
    "from pageRank import PageRank\n",
    "\n",
    "output_dir = 'C:\\\\Users\\\\kuanlin\\\\Desktop\\\\Berkeley_MIDS\\\\courses\\\\W261_ML_at_Scale\\\\ww9\\\\PageRankOutputs\\\\iter'\n",
    "\n",
    "# first iteration, collect normalization factors\n",
    "mr_job = PageRank(args=['PageRank-test.txt', '--no-output', '--output-dir='+output_dir+'1'])\n",
    "with mr_job.make_runner() as runner: \n",
    "    runner.run()\n",
    "    norm_factor = runner.counters()[0]['prank']['prod_norm_factor']\n",
    "    \n",
    "# second iteration, normalize initialization values, and collect total nodes\n",
    "mr_job = PageRank(args=[output_dir+'1', '--no-output', '--output-dir='+output_dir+'2', '--prob-norm-factor='+str(norm_factor)])\n",
    "with mr_job.make_runner() as runner: \n",
    "    runner.run()\n",
    "    total_nodes = runner.counters()[0]['prank']['total_nodes']\n",
    "    loss_mass = 0.0\n",
    "    if 'prank' in runner.counters()[0] and 'loss_mass' in runner.counters()[0]['prank']:\n",
    "        loss_mass = 1.0*runner.counters()[0]['prank']['loss_mass']/(10**mr_job.options.counter_precision)\n",
    "\n",
    "# iter until no changes or max iter reached\n",
    "iter_num = 2\n",
    "max_iter = 20\n",
    "while(1):\n",
    "    iter_num += 1\n",
    "    \n",
    "    if iter_num == max_iter or ('prank' in runner.counters()[0] and 'chg_over_thold' not in runner.counters()[0]['prank']):\n",
    "        final_iter = True\n",
    "    else:\n",
    "        final_iter = False\n",
    "    \n",
    "    if not final_iter:\n",
    "        mr_job = PageRank(args=[output_dir+str(iter_num-1), '--no-output', '--output-dir='+output_dir+str(iter_num), \n",
    "                '--total-nodes='+str(total_nodes), '--loss-mass='+str(loss_mass)])\n",
    "    else:\n",
    "        mr_job = PageRank(args=[output_dir+str(iter_num-1), '--no-output', '--output-dir='+output_dir+str(iter_num), \n",
    "                '--total-nodes='+str(total_nodes), '--loss-mass='+str(loss_mass), '--is-final-iter=1'])\n",
    "    with mr_job.make_runner() as runner: \n",
    "        runner.run()\n",
    "        loss_mass = 0.0\n",
    "        if 'prank' in runner.counters()[0] and 'loss_mass' in runner.counters()[0]['prank']:\n",
    "            loss_mass = 1.0*runner.counters()[0]['prank']['loss_mass']/(10**mr_job.options.counter_precision)\n",
    "    \n",
    "    if final_iter:\n",
    "        break\n",
    "    "
   ]
  },
  {
   "cell_type": "code",
   "execution_count": 80,
   "metadata": {
    "collapsed": false
   },
   "outputs": [
    {
     "name": "stdout",
     "output_type": "stream",
     "text": [
      "\"A\"\t[{}, 0.0328]\n",
      "\"B\"\t[{\"C\": 1}, 0.3924]\n",
      "\"C\"\t[{\"B\": 1}, 0.3351]\n",
      "\"D\"\t[{\"A\": 1, \"B\": 1}, 0.0391]\n",
      "\"E\"\t[{\"B\": 1, \"D\": 1, \"F\": 1}, 0.0809]\n",
      "\"F\"\t[{\"B\": 1, \"E\": 1}, 0.0391]\n",
      "\"G\"\t[{\"B\": 1, \"E\": 1}, 0.0162]\n",
      "\"H\"\t[{\"B\": 1, \"E\": 1}, 0.0162]\n",
      "\"I\"\t[{\"B\": 1, \"E\": 1}, 0.0162]\n",
      "\"J\"\t[{\"E\": 1}, 0.0162]\n",
      "\"K\"\t[{\"E\": 1}, 0.0162]\n"
     ]
    }
   ],
   "source": [
    "# show the result:\n",
    "output_file = output_dir + str(iter_num) + '\\\\part-00000'\n",
    "for line in open(output_file, 'r'): print line.strip()"
   ]
  },
  {
   "cell_type": "code",
   "execution_count": 96,
   "metadata": {
    "collapsed": false
   },
   "outputs": [
    {
     "name": "stdout",
     "output_type": "stream",
     "text": [
      "Overwriting topNPageRanks.py\n"
     ]
    }
   ],
   "source": [
    "%%writefile topNPageRanks.py\n",
    "\n",
    "# MRJob code to grab topN pageRanks\n",
    "\n",
    "from mrjob.job import MRJob\n",
    "\n",
    "class topNPageRanks(MRJob):\n",
    "    \n",
    "    def configure_options(self):\n",
    "        super(topNPageRanks, self).configure_options()\n",
    "\n",
    "        self.add_passthrough_option(\n",
    "            '--top-n', dest='top_n', default=100, type='int',\n",
    "            help='select top N page ranks')\n",
    "    \n",
    "    def mapper(self, _, line):\n",
    "        lineArr = line.strip().split('\\t')\n",
    "        nodeId = lineArr[0].replace('\"', '')\n",
    "        rank_val = eval(lineArr[1])[1]\n",
    "        yield None, (rank_val, nodeId)\n",
    "        \n",
    "    def combiner(self, _, ranked_nodes):\n",
    "        top_n_nodes = []\n",
    "        for node in ranked_nodes:\n",
    "            if len(top_n_nodes) < self.options.top_n:\n",
    "                top_n_nodes.append(node)\n",
    "                top_n_nodes = sorted(top_n_nodes, reverse=True)\n",
    "            elif node[0] > top_n_nodes[self.options.top_n-1][0]:\n",
    "                top_n_nodes.append(node)\n",
    "                top_n_nodes = sorted(top_n_nodes, reverse=True)[:self.options.top_n]\n",
    "        for node in top_n_nodes:\n",
    "            yield None, node\n",
    "        \n",
    "    def reducer(self, _, ranked_nodes):\n",
    "        top_n_nodes = []\n",
    "        for node in ranked_nodes:\n",
    "            if len(top_n_nodes) < self.options.top_n:\n",
    "                top_n_nodes.append(node)\n",
    "                top_n_nodes = sorted(top_n_nodes, reverse=True)\n",
    "            elif node[0] > top_n_nodes[self.options.top_n-1][0]:\n",
    "                top_n_nodes.append(node)\n",
    "                top_n_nodes = sorted(top_n_nodes, reverse=True)[:self.options.top_n]\n",
    "        for node in top_n_nodes:\n",
    "            yield node[1], node[0]\n",
    "\n",
    "if __name__ == '__main__':\n",
    "    topNPageRanks.run()"
   ]
  },
  {
   "cell_type": "code",
   "execution_count": 98,
   "metadata": {
    "collapsed": false
   },
   "outputs": [
    {
     "name": "stdout",
     "output_type": "stream",
     "text": [
      "\"B\"\t0.3924\n",
      "\"C\"\t0.3351\n",
      "\"E\"\t0.0809\n",
      "\"F\"\t0.0391\n",
      "\"D\"\t0.0391\n"
     ]
    },
    {
     "name": "stderr",
     "output_type": "stream",
     "text": [
      "no configs found; falling back on auto-configuration\n",
      "no configs found; falling back on auto-configuration\n",
      "creating tmp directory c:\\temp\\topNPageRanks.kuanlin.20160314.070605.221000\n",
      "\n",
      "PLEASE NOTE: Starting in mrjob v0.5.0, protocols will be strict by default. It's recommended you run your job with --strict-protocols or set up mrjob.conf as described at https://pythonhosted.org/mrjob/whats-new.html#ready-for-strict-protocols\n",
      "\n",
      "writing to c:\\temp\\topNPageRanks.kuanlin.20160314.070605.221000\\step-0-mapper_part-00000\n",
      "Counters from step 1:\n",
      "  (no counters found)\n",
      "writing to c:\\temp\\topNPageRanks.kuanlin.20160314.070605.221000\\step-0-mapper-sorted\n",
      "> sort 'c:\\temp\\topNPageRanks.kuanlin.20160314.070605.221000\\step-0-mapper_part-00000'\n",
      "writing to c:\\temp\\topNPageRanks.kuanlin.20160314.070605.221000\\step-0-reducer_part-00000\n",
      "Counters from step 1:\n",
      "  (no counters found)\n",
      "Moving c:\\temp\\topNPageRanks.kuanlin.20160314.070605.221000\\step-0-reducer_part-00000 -> c:\\temp\\topNPageRanks.kuanlin.20160314.070605.221000\\output\\part-00000\n",
      "Streaming final output from c:\\temp\\topNPageRanks.kuanlin.20160314.070605.221000\\output\n",
      "removing tmp directory c:\\temp\\topNPageRanks.kuanlin.20160314.070605.221000\n"
     ]
    }
   ],
   "source": [
    "!python topNPageRanks.py C:\\\\Users\\\\kuanlin\\\\Desktop\\\\Berkeley_MIDS\\\\courses\\\\W261_ML_at_Scale\\\\ww9\\\\PageRankOutputs\\\\iter20 --top-n=5"
   ]
  },
  {
   "cell_type": "markdown",
   "metadata": {},
   "source": [
    "# HW 9.2: Exploring PageRank teleportation and network plots\n",
    "\n",
    "In order to overcome  problems such as disconnected components, the damping factor (a typical value for d is 0.85) can be varied. \n",
    "Using the graph in HW1, plot the test graph (using networkx, https://networkx.github.io/) for several values of the damping parameter alpha,\n",
    "so that each nodes radius is proportional to its PageRank score. In particular you should\n",
    "do this for the following damping factors: [0,0.25,0.5,0.75, 0.85, 1]. Note your plots should look like the following:\n",
    "\n",
    "https://en.wikipedia.org/wiki/PageRank#/media/File:PageRanks-Example.svg"
   ]
  },
  {
   "cell_type": "code",
   "execution_count": 57,
   "metadata": {
    "collapsed": false
   },
   "outputs": [
    {
     "name": "stderr",
     "output_type": "stream",
     "text": [
      "WARNING:mrjob.runner:\n",
      "WARNING:mrjob.runner:PLEASE NOTE: Starting in mrjob v0.5.0, protocols will be strict by default. It's recommended you run your job with --strict-protocols or set up mrjob.conf as described at https://pythonhosted.org/mrjob/whats-new.html#ready-for-strict-protocols\n",
      "WARNING:mrjob.runner:\n",
      "WARNING:mrjob.runner:\n",
      "WARNING:mrjob.runner:PLEASE NOTE: Starting in mrjob v0.5.0, protocols will be strict by default. It's recommended you run your job with --strict-protocols or set up mrjob.conf as described at https://pythonhosted.org/mrjob/whats-new.html#ready-for-strict-protocols\n",
      "WARNING:mrjob.runner:\n",
      "WARNING:mrjob.runner:\n",
      "WARNING:mrjob.runner:PLEASE NOTE: Starting in mrjob v0.5.0, protocols will be strict by default. It's recommended you run your job with --strict-protocols or set up mrjob.conf as described at https://pythonhosted.org/mrjob/whats-new.html#ready-for-strict-protocols\n",
      "WARNING:mrjob.runner:\n",
      "WARNING:mrjob.runner:\n",
      "WARNING:mrjob.runner:PLEASE NOTE: Starting in mrjob v0.5.0, protocols will be strict by default. It's recommended you run your job with --strict-protocols or set up mrjob.conf as described at https://pythonhosted.org/mrjob/whats-new.html#ready-for-strict-protocols\n",
      "WARNING:mrjob.runner:\n",
      "WARNING:mrjob.runner:\n",
      "WARNING:mrjob.runner:PLEASE NOTE: Starting in mrjob v0.5.0, protocols will be strict by default. It's recommended you run your job with --strict-protocols or set up mrjob.conf as described at https://pythonhosted.org/mrjob/whats-new.html#ready-for-strict-protocols\n",
      "WARNING:mrjob.runner:\n",
      "WARNING:mrjob.runner:\n",
      "WARNING:mrjob.runner:PLEASE NOTE: Starting in mrjob v0.5.0, protocols will be strict by default. It's recommended you run your job with --strict-protocols or set up mrjob.conf as described at https://pythonhosted.org/mrjob/whats-new.html#ready-for-strict-protocols\n",
      "WARNING:mrjob.runner:\n",
      "WARNING:mrjob.runner:\n",
      "WARNING:mrjob.runner:PLEASE NOTE: Starting in mrjob v0.5.0, protocols will be strict by default. It's recommended you run your job with --strict-protocols or set up mrjob.conf as described at https://pythonhosted.org/mrjob/whats-new.html#ready-for-strict-protocols\n",
      "WARNING:mrjob.runner:\n",
      "WARNING:mrjob.runner:\n",
      "WARNING:mrjob.runner:PLEASE NOTE: Starting in mrjob v0.5.0, protocols will be strict by default. It's recommended you run your job with --strict-protocols or set up mrjob.conf as described at https://pythonhosted.org/mrjob/whats-new.html#ready-for-strict-protocols\n",
      "WARNING:mrjob.runner:\n",
      "WARNING:mrjob.runner:\n",
      "WARNING:mrjob.runner:PLEASE NOTE: Starting in mrjob v0.5.0, protocols will be strict by default. It's recommended you run your job with --strict-protocols or set up mrjob.conf as described at https://pythonhosted.org/mrjob/whats-new.html#ready-for-strict-protocols\n",
      "WARNING:mrjob.runner:\n",
      "WARNING:mrjob.runner:\n",
      "WARNING:mrjob.runner:PLEASE NOTE: Starting in mrjob v0.5.0, protocols will be strict by default. It's recommended you run your job with --strict-protocols or set up mrjob.conf as described at https://pythonhosted.org/mrjob/whats-new.html#ready-for-strict-protocols\n",
      "WARNING:mrjob.runner:\n",
      "WARNING:mrjob.runner:\n",
      "WARNING:mrjob.runner:PLEASE NOTE: Starting in mrjob v0.5.0, protocols will be strict by default. It's recommended you run your job with --strict-protocols or set up mrjob.conf as described at https://pythonhosted.org/mrjob/whats-new.html#ready-for-strict-protocols\n",
      "WARNING:mrjob.runner:\n",
      "WARNING:mrjob.runner:\n",
      "WARNING:mrjob.runner:PLEASE NOTE: Starting in mrjob v0.5.0, protocols will be strict by default. It's recommended you run your job with --strict-protocols or set up mrjob.conf as described at https://pythonhosted.org/mrjob/whats-new.html#ready-for-strict-protocols\n",
      "WARNING:mrjob.runner:\n",
      "WARNING:mrjob.runner:\n",
      "WARNING:mrjob.runner:PLEASE NOTE: Starting in mrjob v0.5.0, protocols will be strict by default. It's recommended you run your job with --strict-protocols or set up mrjob.conf as described at https://pythonhosted.org/mrjob/whats-new.html#ready-for-strict-protocols\n",
      "WARNING:mrjob.runner:\n",
      "WARNING:mrjob.runner:\n",
      "WARNING:mrjob.runner:PLEASE NOTE: Starting in mrjob v0.5.0, protocols will be strict by default. It's recommended you run your job with --strict-protocols or set up mrjob.conf as described at https://pythonhosted.org/mrjob/whats-new.html#ready-for-strict-protocols\n",
      "WARNING:mrjob.runner:\n",
      "WARNING:mrjob.runner:\n",
      "WARNING:mrjob.runner:PLEASE NOTE: Starting in mrjob v0.5.0, protocols will be strict by default. It's recommended you run your job with --strict-protocols or set up mrjob.conf as described at https://pythonhosted.org/mrjob/whats-new.html#ready-for-strict-protocols\n",
      "WARNING:mrjob.runner:\n",
      "WARNING:mrjob.runner:\n",
      "WARNING:mrjob.runner:PLEASE NOTE: Starting in mrjob v0.5.0, protocols will be strict by default. It's recommended you run your job with --strict-protocols or set up mrjob.conf as described at https://pythonhosted.org/mrjob/whats-new.html#ready-for-strict-protocols\n",
      "WARNING:mrjob.runner:\n",
      "WARNING:mrjob.runner:\n",
      "WARNING:mrjob.runner:PLEASE NOTE: Starting in mrjob v0.5.0, protocols will be strict by default. It's recommended you run your job with --strict-protocols or set up mrjob.conf as described at https://pythonhosted.org/mrjob/whats-new.html#ready-for-strict-protocols\n",
      "WARNING:mrjob.runner:\n",
      "WARNING:mrjob.runner:\n",
      "WARNING:mrjob.runner:PLEASE NOTE: Starting in mrjob v0.5.0, protocols will be strict by default. It's recommended you run your job with --strict-protocols or set up mrjob.conf as described at https://pythonhosted.org/mrjob/whats-new.html#ready-for-strict-protocols\n",
      "WARNING:mrjob.runner:\n",
      "WARNING:mrjob.runner:\n",
      "WARNING:mrjob.runner:PLEASE NOTE: Starting in mrjob v0.5.0, protocols will be strict by default. It's recommended you run your job with --strict-protocols or set up mrjob.conf as described at https://pythonhosted.org/mrjob/whats-new.html#ready-for-strict-protocols\n",
      "WARNING:mrjob.runner:\n",
      "WARNING:mrjob.runner:\n",
      "WARNING:mrjob.runner:PLEASE NOTE: Starting in mrjob v0.5.0, protocols will be strict by default. It's recommended you run your job with --strict-protocols or set up mrjob.conf as described at https://pythonhosted.org/mrjob/whats-new.html#ready-for-strict-protocols\n",
      "WARNING:mrjob.runner:\n"
     ]
    },
    {
     "name": "stdout",
     "output_type": "stream",
     "text": [
      "The autoreload extension is already loaded. To reload it, use:\n",
      "  %reload_ext autoreload\n"
     ]
    }
   ],
   "source": [
    "# Make whole bunch of PageRank results with varying damping factors\n",
    "\n",
    "%load_ext autoreload\n",
    "%autoreload 2\n",
    "from pageRank import PageRank\n",
    "\n",
    "damping_factor = 1\n",
    "\n",
    "output_dir = 'VaryingDampingFactors\\\\'+str(damping_factor)+'\\\\iter'\n",
    "\n",
    "# first iteration, collect normalization factors\n",
    "mr_job = PageRank(args=['PageRank-test.txt', '--no-output', '--output-dir='+output_dir+'1'])\n",
    "with mr_job.make_runner() as runner: \n",
    "    runner.run()\n",
    "    norm_factor = runner.counters()[0]['prank']['prod_norm_factor']\n",
    "    \n",
    "# second iteration, normalize initialization values, and collect total nodes\n",
    "mr_job = PageRank(args=[output_dir+'1', '--no-output', '--output-dir='+output_dir+'2', '--prob-norm-factor='+str(norm_factor)])\n",
    "with mr_job.make_runner() as runner: \n",
    "    runner.run()\n",
    "    total_nodes = runner.counters()[0]['prank']['total_nodes']\n",
    "    loss_mass = 0.0\n",
    "    if 'prank' in runner.counters()[0] and 'loss_mass' in runner.counters()[0]['prank']:\n",
    "        loss_mass = 1.0*runner.counters()[0]['prank']['loss_mass']/(10**mr_job.options.counter_precision)\n",
    "\n",
    "# iter until no changes or max iter reached\n",
    "iter_num = 2\n",
    "max_iter = 20\n",
    "while(1):\n",
    "    iter_num += 1\n",
    "    \n",
    "    if iter_num == max_iter or ('prank' in runner.counters()[0] and 'chg_over_thold' not in runner.counters()[0]['prank']):\n",
    "        final_iter = True\n",
    "    else:\n",
    "        final_iter = False\n",
    "    \n",
    "    if not final_iter:\n",
    "        mr_job = PageRank(args=[output_dir+str(iter_num-1), '--no-output', '--output-dir='+output_dir+str(iter_num), \n",
    "                '--total-nodes='+str(total_nodes), '--loss-mass='+str(loss_mass), '--damping-factor='+str(damping_factor)])\n",
    "    else:\n",
    "        mr_job = PageRank(args=[output_dir+str(iter_num-1), '--no-output', '--output-dir='+output_dir+'final', \n",
    "                '--total-nodes='+str(total_nodes), '--loss-mass='+str(loss_mass),\n",
    "                '--damping-factor='+str(damping_factor), '--is-final-iter=1'])\n",
    "    with mr_job.make_runner() as runner: \n",
    "        runner.run()\n",
    "        loss_mass = 0.0\n",
    "        if 'prank' in runner.counters()[0] and 'loss_mass' in runner.counters()[0]['prank']:\n",
    "            loss_mass = 1.0*runner.counters()[0]['prank']['loss_mass']/(10**mr_job.options.counter_precision)\n",
    "    \n",
    "    if final_iter:\n",
    "        break"
   ]
  },
  {
   "cell_type": "code",
   "execution_count": 63,
   "metadata": {
    "collapsed": false
   },
   "outputs": [
    {
     "data": {
      "image/png": "[encoded data removed]",
      "text/plain": [
       "<matplotlib.figure.Figure at 0x1113c670>"
      ]
     },
     "metadata": {},
     "output_type": "display_data"
    }
   ],
   "source": [
    "# Make bunch of network plots\n",
    "%matplotlib inline\n",
    "import networkx as nx\n",
    "import matplotlib.pyplot as plt\n",
    "import os\n",
    "\n",
    "plt.figure(figsize=(20, 30))\n",
    "\n",
    "def parseGraph(input_file):\n",
    "    DG=nx.DiGraph()\n",
    "    for line in open(input_file, 'r'):\n",
    "        lineArr = line.strip().split('\\t')\n",
    "        nodeId = lineArr[0].replace('\"', '')\n",
    "        nodeData = eval(lineArr[1])\n",
    "        outlinks = nodeData[0]\n",
    "        rankVal = nodeData[1]  \n",
    "        DG.add_node(nodeId, rank=rankVal)\n",
    "        for outNode in outlinks:\n",
    "            DG.add_edge(nodeId, outNode.replace('\"', ''))\n",
    "    return DG\n",
    "            \n",
    "d_factors = [0,0.25,0.5,0.75, 0.85, 1]\n",
    "#input_files = [os.path.join('VaryingDampingFactors', str(d), 'iterfinal', 'part-00000')  for d in d_factors]\n",
    "for j,df in enumerate(d_factors):\n",
    "    plt.subplot(3, 2, j+1)\n",
    "    DG = parseGraph(os.path.join('VaryingDampingFactors', str(df), 'iterfinal', 'part-00000'))\n",
    "    \n",
    "    try:\n",
    "        pos=nx.graphviz_layout(DG)\n",
    "    except:\n",
    "        pos=nx.spring_layout(DG,iterations=20)\n",
    "        \n",
    "    nx.draw_networkx_nodes(DG, pos, node_size=[d[1]['rank']*15000 for d in DG.nodes(data=True)],\n",
    "                           cmap=plt.get_cmap('jet'), node_color=[i for i,d in enumerate(DG.nodes())],\n",
    "                           alpha=0.8)\n",
    "    nx.draw_networkx_edges(DG, pos)\n",
    "    nx.draw_networkx_labels(DG,pos,fontsize=14)\n",
    "    plt.axis('off')\n",
    "    plt.title(\"Damping Factor: %s\"%df)\n",
    "    \n",
    "plt.show()"
   ]
  },
  {
   "cell_type": "markdown",
   "metadata": {},
   "source": [
    "# HW 9.3: Applying PageRank to the Wikipedia hyperlinks network\n",
    "\n",
    "Run your PageRank implementation on the Wikipedia dataset for 5 iterations,\n",
    "and display the top 100 ranked nodes (with alpha = 0.85).\n",
    "\n",
    "Run your PageRank implementation on the Wikipedia dataset for 10 iterations,\n",
    "and display the top 100 ranked nodes (with teleportation factor of 0.15). \n",
    "Have the top 100 ranked pages changed? Comment on your findings.\n",
    "\n",
    "Plot the pagerank values for the top 100 pages resulting from the 5 iterations run. Then plot the pagerank values for the same 100 pages that resulted from the 10 iterations run."
   ]
  },
  {
   "cell_type": "code",
   "execution_count": 1,
   "metadata": {
    "collapsed": true
   },
   "outputs": [],
   "source": [
    "# configuration for running MRJob on EMR\n",
    "import os\n",
    "\n",
    "aws_id = os.environ['AWSAccessKeyId']\n",
    "aws_key = os.environ['AWSSecretKey']\n",
    "\n",
    "writer = open('mrjob_emr.conf', 'w')\n",
    "writer.write(\n",
    "\"\"\"runners:\n",
    "  emr:\n",
    "    aws_access_key_id: %s\n",
    "    aws_region: us-east-1\n",
    "    ec2_instance_type: m1.medium\n",
    "    ec2_master_instance_type: m1.medium\n",
    "    num_ec2_instances: 5\n",
    "    aws_secret_access_key: %s\"\"\"%(aws_id, aws_key)\n",
    ")\n",
    "writer.close()"
   ]
  },
  {
   "cell_type": "code",
   "execution_count": 2,
   "metadata": {
    "collapsed": false
   },
   "outputs": [
    {
     "name": "stderr",
     "output_type": "stream",
     "text": [
      "WARNING:mrjob.conf:Deprecated option pool_emr_job_flows has been renamed to pool_clusters and will be removed in v0.6.0\n",
      "WARNING:mrjob.fs.s3:Could not infer endpoint for bucket ucb-mids-mls-networks; assuming s3.amazonaws.com\n",
      "WARNING:mrjob.conf:Deprecated option pool_emr_job_flows has been renamed to pool_clusters and will be removed in v0.6.0\n"
     ]
    },
    {
     "name": "stdout",
     "output_type": "stream",
     "text": [
      "The autoreload extension is already loaded. To reload it, use:\n",
      "  %reload_ext autoreload\n",
      "total nodes: 15192277"
     ]
    },
    {
     "name": "stderr",
     "output_type": "stream",
     "text": [
      "WARNING:mrjob.conf:Deprecated option pool_emr_job_flows has been renamed to pool_clusters and will be removed in v0.6.0\n"
     ]
    },
    {
     "name": "stdout",
     "output_type": "stream",
     "text": [
      "\n",
      "last iter loss mass: 0.100444\n",
      "total nodes: 15192277"
     ]
    },
    {
     "name": "stderr",
     "output_type": "stream",
     "text": [
      "WARNING:mrjob.conf:Deprecated option pool_emr_job_flows has been renamed to pool_clusters and will be removed in v0.6.0\n"
     ]
    },
    {
     "name": "stdout",
     "output_type": "stream",
     "text": [
      "\n",
      "last iter loss mass: 0.01156\n",
      "total nodes: 15192277"
     ]
    },
    {
     "name": "stderr",
     "output_type": "stream",
     "text": [
      "WARNING:mrjob.conf:Deprecated option pool_emr_job_flows has been renamed to pool_clusters and will be removed in v0.6.0\n"
     ]
    },
    {
     "name": "stdout",
     "output_type": "stream",
     "text": [
      "\n",
      "last iter loss mass: 0.00068\n"
     ]
    }
   ],
   "source": [
    "# 1-5 iterations\n",
    "\n",
    "%load_ext autoreload\n",
    "%autoreload 2\n",
    "from pageRank import PageRank\n",
    "\n",
    "output_dir = 's3://lin.berkeley.mids/w261/wikiPageRank/iter'\n",
    "input_file = 's3://ucb-mids-mls-networks/wikipedia/all-pages-indexed-out.txt'\n",
    "\n",
    "# first iteration, collect normalization factors\n",
    "mr_job = PageRank(args=[input_file, '-r', 'emr', '-c', 'mrjob_emr.conf', \n",
    "                        '--pool-emr-job-flows', '--no-output', \n",
    "                        '--output-dir='+output_dir+'1'])\n",
    "with mr_job.make_runner() as runner: \n",
    "    runner.run()\n",
    "    norm_factor = runner.counters()[0]['prank']['prod_norm_factor']\n",
    "    \n",
    "# second iteration, normalize initialization values, and collect total nodes\n",
    "mr_job = PageRank(args=['-r', 'emr', '-c', 'mrjob_emr.conf', '--pool-emr-job-flows', \n",
    "                        output_dir+'1', '--no-output', '--output-dir='+output_dir+'2', \n",
    "                        '--prob-norm-factor='+str(norm_factor)])\n",
    "with mr_job.make_runner() as runner: \n",
    "    runner.run()\n",
    "    total_nodes = runner.counters()[0]['prank']['total_nodes']\n",
    "    loss_mass = 0.0\n",
    "    if 'prank' in runner.counters()[0] and 'loss_mass' in runner.counters()[0]['prank']:\n",
    "        loss_mass = 1.0*runner.counters()[0]['prank']['loss_mass']/(10**mr_job.options.counter_precision)\n",
    "\n",
    "# iter until no changes or max iter reached\n",
    "iter_num = 2\n",
    "max_iter = 5\n",
    "while(1):\n",
    "    iter_num += 1\n",
    "    \n",
    "    print \"total nodes: %s\"%total_nodes\n",
    "    print \"last iter loss mass: %s\"%loss_mass\n",
    "    \n",
    "    if iter_num == max_iter or ('prank' in runner.counters()[0] and 'chg_over_thold' not in runner.counters()[0]['prank']):\n",
    "        final_iter = True\n",
    "    else:\n",
    "        final_iter = False\n",
    "    \n",
    "    if not final_iter:\n",
    "        mr_job = PageRank(args=['-r', 'emr', '-c', 'mrjob_emr.conf', '--pool-emr-job-flows', \n",
    "                                output_dir+str(iter_num-1), '--no-output', \n",
    "                                '--output-dir='+output_dir+str(iter_num), '--total-nodes='+str(total_nodes), \n",
    "                                '--loss-mass='+str(loss_mass)])\n",
    "    else:\n",
    "        mr_job = PageRank(args=['-r', 'emr', '-c', 'mrjob_emr.conf', '--pool-emr-job-flows', \n",
    "                                output_dir+str(iter_num-1), '--no-output', \n",
    "                                '--output-dir='+output_dir+str(iter_num)+'final', \n",
    "                                '--total-nodes='+str(total_nodes), '--loss-mass='+str(loss_mass), \n",
    "                                '--is-final-iter=1'])\n",
    "    with mr_job.make_runner() as runner: \n",
    "        runner.run()\n",
    "        loss_mass = 0.0\n",
    "        if 'prank' in runner.counters()[0] and 'loss_mass' in runner.counters()[0]['prank']:\n",
    "            loss_mass = 1.0*runner.counters()[0]['prank']['loss_mass']/(10**mr_job.options.counter_precision)\n",
    "    \n",
    "    if final_iter:\n",
    "        break"
   ]
  },
  {
   "cell_type": "markdown",
   "metadata": {},
   "source": [
    "#### Grab top 100 ranked nodes"
   ]
  },
  {
   "cell_type": "code",
   "execution_count": 2,
   "metadata": {
    "collapsed": true
   },
   "outputs": [],
   "source": [
    "# configuration for running MRJob on EMR\n",
    "import os\n",
    "\n",
    "aws_id = os.environ['AWSAccessKeyId']\n",
    "aws_key = os.environ['AWSSecretKey']\n",
    "\n",
    "writer = open('mrjob_emr.conf', 'w')\n",
    "writer.write(\n",
    "\"\"\"runners:\n",
    "  emr:\n",
    "    aws_access_key_id: %s\n",
    "    aws_region: us-east-1\n",
    "    ec2_instance_type: m1.medium\n",
    "    ec2_master_instance_type: m1.medium\n",
    "    num_ec2_instances: 2\n",
    "    aws_secret_access_key: %s\"\"\"%(aws_id, aws_key)\n",
    ")\n",
    "writer.close()"
   ]
  },
  {
   "cell_type": "code",
   "execution_count": null,
   "metadata": {
    "collapsed": true
   },
   "outputs": [],
   "source": [
    "# Top 100 nodes from the 5 iteratino run\n",
    "!python topNPageRanks.py -r emr -c mrjob_emr.conf s3://lin.berkeley.mids/w261/wikiPageRank/iter5final --top-n=100"
   ]
  },
  {
   "cell_type": "markdown",
   "metadata": {
    "collapsed": true
   },
   "source": [
    "# HW 9.4: Topic-specific PageRank implementation using MRJob\n",
    "\n",
    "Modify your PageRank implementation to produce a topic specific PageRank implementation,\n",
    "as described in:\n",
    "\n",
    "http://www-cs-students.stanford.edu/~taherh/papers/topic-sensitive-pagerank.pdf\n",
    "\n",
    "Note in this article that there is a special caveat to ensure that the transition matrix is \n",
    "irreducible.  This caveat lies in footnote 3 on page 3:\n",
    "\n",
    "\tA minor caveat: to ensure that M is irreducible when p\n",
    "\tcontains any 0 entries, nodes not reachable from nonzero\n",
    "\tnodes in p should be removed. In practice this is not problematic.\n",
    "\n",
    "and must be adhered to for convergence to be guaranteed.\n",
    "\n",
    "Run topic specific PageRank on the following randomly generated network of 100 nodes:\n",
    "\n",
    "s3://ucb-mids-mls-networks/randNet.txt (also available on Dropbox)\n",
    "\n",
    "which are organized into ten topics, as described in the file:\n",
    "\n",
    "s3://ucb-mids-mls-networks/randNet_topics.txt  (also available on Dropbox)\n",
    "\n",
    "Since there are 10 topics, your result should be 11 PageRank vectors\n",
    "(one for the vanilla PageRank implementation in 9.1, and one for each topic\n",
    "with the topic specific implementation). Print out the top ten ranking nodes \n",
    "and their topics for each of the 11 versions, and comment on your result. \n",
    "Assume a teleportation factor of 0.15 in all your analyses.\n",
    "\n",
    "One final and important comment here:  please consider the \n",
    "requirements for irreducibility with topic-specific PageRank.\n",
    "In particular, the literature ensures irreducibility by requiring that\n",
    "nodes not reachable from in-topic nodes be removed from the network.\n",
    "\n",
    "This is not a small task, especially as it it must be performed\n",
    "separately for each of the (10) topics.\n",
    "\n",
    "So, instead of using this method for irreducibility, \n",
    "please comment on why the literature's method is difficult to implement,\n",
    "and what what extra computation it will require.\n",
    "Then for your code, please use the alternative, \n",
    "non-uniform damping vector:\n",
    "\n",
    "vji = beta*(1/|Tj|); if node i lies in topic Tj\n",
    "\n",
    "vji = (1-beta)*(1/(N - |Tj|)); if node i lies outside of topic Tj\n",
    "\n",
    "for beta in (0,1) close to 1. \n",
    "\n",
    "With this approach, you will not have to delete any nodes.\n",
    "If beta > 0.5, PageRank is topic-sensitive, \n",
    "and if beta < 0.5, the PageRank is anti-topic-sensitive. \n",
    "For any value of beta irreducibility should hold,\n",
    "so please try beta=0.99, and perhaps some other values locally,\n",
    "on the smaller networks.\n"
   ]
  },
  {
   "cell_type": "markdown",
   "metadata": {},
   "source": [
    "#### MRJob code for topic-specific PageRank"
   ]
  },
  {
   "cell_type": "code",
   "execution_count": 10,
   "metadata": {
    "collapsed": false
   },
   "outputs": [
    {
     "name": "stdout",
     "output_type": "stream",
     "text": [
      "Overwriting topicSpecificPageRank.py\n"
     ]
    }
   ],
   "source": [
    "%%writefile topicSpecificPageRank.py\n",
    "from mrjob.job import MRJob\n",
    "from mrjob.step import MRStep\n",
    "\n",
    "class PageRank(MRJob):\n",
    "       \n",
    "    def configure_options(self):\n",
    "        super(PageRank, self).configure_options()\n",
    "\n",
    "        self.add_passthrough_option(\n",
    "            '--prob-norm-factor', dest='prob_norm_factor', default=0.0, type='float',\n",
    "            help='normalization factor for node weights')\n",
    "\n",
    "        self.add_passthrough_option(\n",
    "            '--damping-factor', dest='damping_factor', default=0.85,\n",
    "            type='float',\n",
    "            help='probability a web surfer will continue clicking on links')\n",
    "        \n",
    "        self.add_passthrough_option(\n",
    "            '--total-nodes', dest='total_nodes', default=-1,\n",
    "            type='int',\n",
    "            help='total number of nodes in the graph')\n",
    "        \n",
    "        self.add_passthrough_option(\n",
    "            '--loss-mass', dest='loss_mass', default=0.0,\n",
    "            type='float',\n",
    "            help='loss mass that needs to be redistributed')\n",
    "        \n",
    "        self.add_passthrough_option(\n",
    "            '--counter-precision', dest='counter_precision', default=6,\n",
    "            type='int',\n",
    "            help='number of decimal points to preserve when using counter to store floats')\n",
    "        \n",
    "        self.add_passthrough_option(\n",
    "            '--prank-chg-thold', dest='prank_chg_thold', default=0.001,\n",
    "            type='float',\n",
    "            help='threshold for change in PageRank value to continue iteration')\n",
    "        \n",
    "        self.add_passthrough_option(\n",
    "            '--is-final-iter', dest='is_final_iter', default=0,\n",
    "            type='int',\n",
    "            help='1 indicates final iteration which needs to apply just the mapper.')\n",
    "        \n",
    "        self.add_passthrough_option(\n",
    "            '--topic-beta', dest='topic_beta', default=0.99,\n",
    "            type='float',\n",
    "            help='weighting factor for topic teleportation prob.')\n",
    "        \n",
    "        self.add_passthrough_option(\n",
    "            '--topic-id', dest='topic_id', default=\"\",\n",
    "            help='topic selection of topic-specific PageRank')\n",
    "        \n",
    "        self.add_passthrough_option(\n",
    "            '--topic-file', dest='topic_file', default=\"\",\n",
    "            help='tab-seperated file with nodeId[\\t]topicId format')\n",
    "        \n",
    "    def loadTopicFile(self):\n",
    "        self.topic_mapper = {}\n",
    "        if self.options.topic_file != '':\n",
    "            for line in open(self.options.topic_file, 'r'):\n",
    "                nodeId, topicId = line.strip().split('\\t')\n",
    "                if topicId in self.topic_mapper:\n",
    "                    self.topic_mapper[topicId].add(nodeId)\n",
    "                else:\n",
    "                    self.topic_mapper[topicId] = set([nodeId])\n",
    "                    \n",
    "    def mapper_init(self):\n",
    "        if self.options.topic_id != '':\n",
    "            self.loadTopicFile()\n",
    "        else:\n",
    "            self.topic_mapper = None\n",
    "            \n",
    "    def lookupNodeTopicWeight(self, nodeId, topicId):\n",
    "        if nodeId != '' and topicId != '' and self.topic_mapper != None and topicId in self.topic_mapper:\n",
    "            topicSet = self.topic_mapper[topicId]\n",
    "            if nodeId in topicSet:\n",
    "                return self.options.topic_beta*(1.0/len(topicSet))\n",
    "            else:\n",
    "                return (1.0-self.options.topic_beta)*(1.0/(self.options.total_nodes-len(topicSet)))\n",
    "        else:\n",
    "            return 1.0/self.options.total_nodes\n",
    "\n",
    "    def sendScores(self, _, line):\n",
    "        # Mapper, send score to each outline\n",
    "        \n",
    "        if self.options.total_nodes == -1:\n",
    "            # accoumate total node numbers\n",
    "            self.increment_counter('prank', 'total_nodes', 1)\n",
    "        \n",
    "        lineArr = line.strip().split('\\t')\n",
    "        \n",
    "        if '[' not in line: # original input\n",
    "            # first iteration, don't have total node numbers yet.\n",
    "            # initialize pageRank to 1.0, and will have to normalize later\n",
    "            node_weight = 1.0\n",
    "            node_id = lineArr[0]\n",
    "            outlinks = eval(lineArr[1])\n",
    "            self.increment_counter('prank', 'prod_norm_factor', 1)\n",
    "        else:\n",
    "            node_id = lineArr[0].replace('\"', '')\n",
    "            payload = eval(lineArr[1])\n",
    "            outlinks = payload[0]\n",
    "            node_weight = payload[1]\n",
    "            if self.options.prob_norm_factor > 0: # need to re-normalize weights so they sum up to 1\n",
    "                node_weight = node_weight / self.options.prob_norm_factor\n",
    "                \n",
    "            if self.options.total_nodes != -1:\n",
    "                # accounts for teleportation and dangling nodes\n",
    "                node_weight = (1-self.options.damping_factor)*self.lookupNodeTopicWeight(node_id,self.options.topic_id) + self.options.damping_factor*(self.options.loss_mass/self.options.total_nodes + node_weight)\n",
    "        \n",
    "        if self.options.is_final_iter == 1:\n",
    "            yield node_id, (outlinks, round(node_weight, 4))\n",
    "        else:\n",
    "            yield node_id, ('node', outlinks, node_weight) # original node info\n",
    "            if len(outlinks) == 0:\n",
    "                # dangling nodes, increment loss mass counter\n",
    "                self.increment_counter('prank', 'loss_mass', int(node_weight*(10**self.options.counter_precision)))\n",
    "            else:\n",
    "                for out_node in outlinks:\n",
    "                    yield out_node, ('score', 1.0*node_weight/len(outlinks), self.options.counter_precision) # new score\n",
    "                    \n",
    "    def sendScoreCombinder(self, nodeId, payload):\n",
    "        total_new_score = 0.0\n",
    "        for data in payload:\n",
    "            if data[0] == 'node':\n",
    "                yield nodeId, data\n",
    "            else:\n",
    "                total_new_score += data[1]\n",
    "        if total_new_score > 0:\n",
    "            yield nodeId, ('score', total_new_score)\n",
    "                \n",
    "    def receive_scores(self, nodeId, payload):\n",
    "        prev_score = 0.0\n",
    "        outlinks = {}\n",
    "        total_new_score = 0.0\n",
    "        \n",
    "        for data in payload:\n",
    "            if data[0] == 'node':\n",
    "                outlinks = data[1]\n",
    "                prev_score = data[2]\n",
    "            else:\n",
    "                total_new_score += data[1]\n",
    "                      \n",
    "        if abs(total_new_score-prev_score) > self.options.prank_chg_thold:\n",
    "            self.increment_counter('prank', 'chg_over_thold', 1)\n",
    "        \n",
    "        yield nodeId, (outlinks, round(total_new_score, 4))\n",
    "        \n",
    "    def steps(self):\n",
    "        if self.options.is_final_iter == 1:\n",
    "            return ([MRStep(mapper_init=self.mapper_init, mapper=self.sendScores)])\n",
    "        else:\n",
    "            return ([MRStep(mapper_init=self.mapper_init, mapper=self.sendScores, reducer=self.receive_scores)])"
   ]
  },
  {
   "cell_type": "markdown",
   "metadata": {},
   "source": [
    "#### Driver code for topic-specific PageRank"
   ]
  },
  {
   "cell_type": "code",
   "execution_count": 8,
   "metadata": {
    "collapsed": false
   },
   "outputs": [
    {
     "name": "stdout",
     "output_type": "stream",
     "text": [
      "Overwriting topicSpecificPRDriver.py\n"
     ]
    }
   ],
   "source": [
    "%%writefile topicSpecificPRDriver.py\n",
    "from topicSpecificPageRank import PageRank\n",
    "import os\n",
    "import sys\n",
    "\n",
    "args = dict(map(lambda x: x.lstrip('-').split('='), sys.argv[1:]))\n",
    "\n",
    "# default settings\n",
    "output_dir = 'TopicSpecificPageRanks'\n",
    "input_file = 'randNet.txt'\n",
    "topic_file = 'randNet_topics.txt'\n",
    "topicId = ''\n",
    "max_iter = 20\n",
    "\n",
    "if 'output-dir' in args:\n",
    "    output_dir = args['output-dir']\n",
    "if 'input-file' in args:\n",
    "    input_file = args['input-file']\n",
    "if 'topic-file' in args:\n",
    "    topic_file = args['topic-file']\n",
    "if 'topic-id' in args:\n",
    "    topicId = args['topic-id']\n",
    "if 'max-iter' in args:\n",
    "    max_iter = int(args['max-iter'])\n",
    "\n",
    "# first iteration, collect normalization factors\n",
    "mr_job = PageRank(args=[input_file, '--no-output', '--output-dir='+os.path.join(output_dir,'iter1')])\n",
    "with mr_job.make_runner() as runner: \n",
    "    runner.run()\n",
    "    norm_factor = runner.counters()[0]['prank']['prod_norm_factor']\n",
    "    \n",
    "# second iteration, normalize initialization values, and collect total nodes\n",
    "mr_job = PageRank(args=[os.path.join(output_dir,'iter1'), '--no-output', '--output-dir='+os.path.join(output_dir,'iter2')\n",
    "                        , '--prob-norm-factor='+str(norm_factor)])\n",
    "with mr_job.make_runner() as runner: \n",
    "    runner.run()\n",
    "    total_nodes = runner.counters()[0]['prank']['total_nodes']\n",
    "    print \"total nodes: %s\"%total_nodes\n",
    "    loss_mass = 0.0\n",
    "    if 'prank' in runner.counters()[0] and 'loss_mass' in runner.counters()[0]['prank']:\n",
    "        loss_mass = 1.0*runner.counters()[0]['prank']['loss_mass']/(10**mr_job.options.counter_precision)\n",
    "\n",
    "# iter until no changes or max iter reached\n",
    "iter_num = 2\n",
    "while(1):\n",
    "    iter_num += 1\n",
    "    \n",
    "    if iter_num == max_iter or ('prank' in runner.counters()[0] and 'chg_over_thold' not in runner.counters()[0]['prank']):\n",
    "        final_iter = True\n",
    "    else:\n",
    "        final_iter = False\n",
    "    \n",
    "    if topicId == '' or topic_file == '':\n",
    "        if not final_iter:\n",
    "            mr_job = PageRank(args=[os.path.join(output_dir,'iter'+str(iter_num-1)), '--no-output', \n",
    "                    '--output-dir='+os.path.join(output_dir,'iter'+str(iter_num)), \n",
    "                    '--total-nodes='+str(total_nodes), '--loss-mass='+str(loss_mass)])\n",
    "        else:\n",
    "            mr_job = PageRank(args=[os.path.join(output_dir,'iter'+str(iter_num-1)), '--no-output', \n",
    "                    '--output-dir='+os.path.join(output_dir,'final'), \n",
    "                    '--total-nodes='+str(total_nodes), '--loss-mass='+str(loss_mass), '--is-final-iter=1'])\n",
    "    else:\n",
    "        if not final_iter:\n",
    "            mr_job = PageRank(args=[os.path.join(output_dir,'iter'+str(iter_num-1)), '--no-output', \n",
    "                    '--output-dir='+os.path.join(output_dir,'iter'+str(iter_num)), \n",
    "                    '--total-nodes='+str(total_nodes), '--loss-mass='+str(loss_mass),\n",
    "                    '--file', topic_file, '--topic-file='+topic_file, '--topic-id='+topicId])\n",
    "        else:\n",
    "            mr_job = PageRank(args=[os.path.join(output_dir,'iter'+str(iter_num-1)), '--no-output', \n",
    "                    '--output-dir='+os.path.join(output_dir,'final'), \n",
    "                    '--total-nodes='+str(total_nodes), '--loss-mass='+str(loss_mass), '--is-final-iter=1',\n",
    "                    '--file', topic_file, '--topic-file='+topic_file, '--topic-id='+topicId])\n",
    "        \n",
    "    with mr_job.make_runner() as runner: \n",
    "        runner.run()\n",
    "        loss_mass = 0.0\n",
    "        if not final_iter and 'prank' in runner.counters()[0] and 'loss_mass' in runner.counters()[0]['prank']:\n",
    "            loss_mass = 1.0*runner.counters()[0]['prank']['loss_mass']/(10**mr_job.options.counter_precision)\n",
    "    \n",
    "    if final_iter:\n",
    "        break"
   ]
  },
  {
   "cell_type": "code",
   "execution_count": 11,
   "metadata": {
    "collapsed": false
   },
   "outputs": [
    {
     "name": "stdout",
     "output_type": "stream",
     "text": [
      "total nodes: 100\n"
     ]
    },
    {
     "name": "stderr",
     "output_type": "stream",
     "text": [
      "No handlers could be found for logger \"mrjob.runner\"\n"
     ]
    }
   ],
   "source": [
    "# first run, no topic weightage\n",
    "!python topicSpecificPRDriver.py --output-dir=TopicSpecificPageRanks\\\\no_topic"
   ]
  },
  {
   "cell_type": "code",
   "execution_count": 22,
   "metadata": {
    "collapsed": false
   },
   "outputs": [
    {
     "name": "stdout",
     "output_type": "stream",
     "text": [
      "total nodes: 100\n"
     ]
    },
    {
     "name": "stderr",
     "output_type": "stream",
     "text": [
      "No handlers could be found for logger \"mrjob.runner\"\n"
     ]
    }
   ],
   "source": [
    "# topic 1\n",
    "!python topicSpecificPRDriver.py --output-dir=TopicSpecificPageRanks\\\\topic1 --topic-id=1"
   ]
  },
  {
   "cell_type": "code",
   "execution_count": 23,
   "metadata": {
    "collapsed": false
   },
   "outputs": [
    {
     "name": "stdout",
     "output_type": "stream",
     "text": [
      "total nodes: 100\n"
     ]
    },
    {
     "name": "stderr",
     "output_type": "stream",
     "text": [
      "No handlers could be found for logger \"mrjob.runner\"\n"
     ]
    }
   ],
   "source": [
    "# topic 2\n",
    "!python topicSpecificPRDriver.py --output-dir=TopicSpecificPageRanks\\\\topic2 --topic-id=2"
   ]
  },
  {
   "cell_type": "code",
   "execution_count": 24,
   "metadata": {
    "collapsed": false
   },
   "outputs": [
    {
     "name": "stdout",
     "output_type": "stream",
     "text": [
      "total nodes: 100\n"
     ]
    },
    {
     "name": "stderr",
     "output_type": "stream",
     "text": [
      "No handlers could be found for logger \"mrjob.runner\"\n"
     ]
    }
   ],
   "source": [
    "# topic 3\n",
    "!python topicSpecificPRDriver.py --output-dir=TopicSpecificPageRanks\\\\topic3 --topic-id=3"
   ]
  },
  {
   "cell_type": "code",
   "execution_count": 25,
   "metadata": {
    "collapsed": false
   },
   "outputs": [
    {
     "name": "stdout",
     "output_type": "stream",
     "text": [
      "total nodes: 100\n"
     ]
    },
    {
     "name": "stderr",
     "output_type": "stream",
     "text": [
      "No handlers could be found for logger \"mrjob.runner\"\n"
     ]
    }
   ],
   "source": [
    "# topic 4\n",
    "!python topicSpecificPRDriver.py --output-dir=TopicSpecificPageRanks\\\\topic4 --topic-id=4"
   ]
  },
  {
   "cell_type": "code",
   "execution_count": 26,
   "metadata": {
    "collapsed": false
   },
   "outputs": [
    {
     "name": "stdout",
     "output_type": "stream",
     "text": [
      "total nodes: 100\n"
     ]
    },
    {
     "name": "stderr",
     "output_type": "stream",
     "text": [
      "No handlers could be found for logger \"mrjob.runner\"\n"
     ]
    }
   ],
   "source": [
    "# topic 5\n",
    "!python topicSpecificPRDriver.py --output-dir=TopicSpecificPageRanks\\\\topic5 --topic-id=5"
   ]
  },
  {
   "cell_type": "code",
   "execution_count": 27,
   "metadata": {
    "collapsed": false
   },
   "outputs": [
    {
     "name": "stdout",
     "output_type": "stream",
     "text": [
      "total nodes: 100\n"
     ]
    },
    {
     "name": "stderr",
     "output_type": "stream",
     "text": [
      "No handlers could be found for logger \"mrjob.runner\"\n"
     ]
    }
   ],
   "source": [
    "# topic 6\n",
    "!python topicSpecificPRDriver.py --output-dir=TopicSpecificPageRanks\\\\topic6 --topic-id=6"
   ]
  },
  {
   "cell_type": "code",
   "execution_count": 28,
   "metadata": {
    "collapsed": false
   },
   "outputs": [
    {
     "name": "stdout",
     "output_type": "stream",
     "text": [
      "total nodes: 100\n"
     ]
    },
    {
     "name": "stderr",
     "output_type": "stream",
     "text": [
      "No handlers could be found for logger \"mrjob.runner\"\n"
     ]
    }
   ],
   "source": [
    "# topic 7\n",
    "!python topicSpecificPRDriver.py --output-dir=TopicSpecificPageRanks\\\\topic7 --topic-id=7"
   ]
  },
  {
   "cell_type": "code",
   "execution_count": 29,
   "metadata": {
    "collapsed": false
   },
   "outputs": [
    {
     "name": "stdout",
     "output_type": "stream",
     "text": [
      "total nodes: 100\n"
     ]
    },
    {
     "name": "stderr",
     "output_type": "stream",
     "text": [
      "No handlers could be found for logger \"mrjob.runner\"\n"
     ]
    }
   ],
   "source": [
    "# topic 8\n",
    "!python topicSpecificPRDriver.py --output-dir=TopicSpecificPageRanks\\\\topic8 --topic-id=8"
   ]
  },
  {
   "cell_type": "code",
   "execution_count": 30,
   "metadata": {
    "collapsed": false
   },
   "outputs": [
    {
     "name": "stdout",
     "output_type": "stream",
     "text": [
      "total nodes: 100\n"
     ]
    },
    {
     "name": "stderr",
     "output_type": "stream",
     "text": [
      "No handlers could be found for logger \"mrjob.runner\"\n"
     ]
    }
   ],
   "source": [
    "# topic 9\n",
    "!python topicSpecificPRDriver.py --output-dir=TopicSpecificPageRanks\\\\topic9 --topic-id=9"
   ]
  },
  {
   "cell_type": "code",
   "execution_count": 31,
   "metadata": {
    "collapsed": false
   },
   "outputs": [
    {
     "name": "stdout",
     "output_type": "stream",
     "text": [
      "total nodes: 100\n"
     ]
    },
    {
     "name": "stderr",
     "output_type": "stream",
     "text": [
      "No handlers could be found for logger \"mrjob.runner\"\n"
     ]
    }
   ],
   "source": [
    "# topic 10\n",
    "!python topicSpecificPRDriver.py --output-dir=TopicSpecificPageRanks\\\\topic10 --topic-id=10"
   ]
  },
  {
   "cell_type": "markdown",
   "metadata": {},
   "source": [
    "#### Print out top 10 ranked nodes from each result"
   ]
  },
  {
   "cell_type": "code",
   "execution_count": 36,
   "metadata": {
    "collapsed": false
   },
   "outputs": [
    {
     "name": "stdout",
     "output_type": "stream",
     "text": [
      "Overwriting topic_specific_topN.py\n"
     ]
    }
   ],
   "source": [
    "%%writefile topic_specific_topN.py\n",
    "\n",
    "from mrjob.job import MRJob\n",
    "\n",
    "class topNPageRanks(MRJob):\n",
    "    \n",
    "    def configure_options(self):\n",
    "        super(topNPageRanks, self).configure_options()\n",
    "\n",
    "        self.add_passthrough_option(\n",
    "            '--top-n', dest='top_n', default=10, type='int',\n",
    "            help='select top N page ranks')\n",
    "    \n",
    "    def mapper(self, _, line):\n",
    "        lineArr = line.strip().split('\\t')\n",
    "        nodeId = lineArr[0].replace('\"', '')\n",
    "        rank_val = eval(lineArr[1])[1]\n",
    "        yield None, (rank_val, nodeId)\n",
    "        \n",
    "    def combiner(self, _, ranked_nodes):\n",
    "        top_n_nodes = []\n",
    "        for node in ranked_nodes:\n",
    "            if len(top_n_nodes) < self.options.top_n:\n",
    "                top_n_nodes.append(node)\n",
    "                top_n_nodes = sorted(top_n_nodes, reverse=True)\n",
    "            elif node[0] > top_n_nodes[self.options.top_n-1][0]:\n",
    "                top_n_nodes.append(node)\n",
    "                top_n_nodes = sorted(top_n_nodes, reverse=True)[:self.options.top_n]\n",
    "        for node in top_n_nodes:\n",
    "            yield None, node\n",
    "            \n",
    "    def reducer_init(self):\n",
    "        self.topic_mapper = {}\n",
    "        for line in open('randNet_topics.txt', 'r'):\n",
    "            nodeId, topicId = line.strip().split('\\t')\n",
    "            self.topic_mapper[nodeId] = topicId\n",
    "        \n",
    "    def reducer(self, _, ranked_nodes):\n",
    "        top_n_nodes = []\n",
    "        for node in ranked_nodes:\n",
    "            if len(top_n_nodes) < self.options.top_n:\n",
    "                top_n_nodes.append(node)\n",
    "                top_n_nodes = sorted(top_n_nodes, reverse=True)\n",
    "            elif node[0] > top_n_nodes[self.options.top_n-1][0]:\n",
    "                top_n_nodes.append(node)\n",
    "                top_n_nodes = sorted(top_n_nodes, reverse=True)[:self.options.top_n]\n",
    "        for node in top_n_nodes:\n",
    "            yield node[1]+' [topic: '+self.topic_mapper[node[1]]+']', node[0]\n",
    "\n",
    "if __name__ == '__main__':\n",
    "    topNPageRanks.run()"
   ]
  },
  {
   "cell_type": "code",
   "execution_count": 37,
   "metadata": {
    "collapsed": false
   },
   "outputs": [
    {
     "name": "stdout",
     "output_type": "stream",
     "text": [
      "\"15 [topic: 3]\"\t0.0164\n",
      "\"74 [topic: 10]\"\t0.016\n",
      "\"63 [topic: 4]\"\t0.0158\n",
      "\"100 [topic: 8]\"\t0.0154\n",
      "\"85 [topic: 7]\"\t0.0152\n",
      "\"9 [topic: 2]\"\t0.015\n",
      "\"58 [topic: 2]\"\t0.0148\n",
      "\"71 [topic: 2]\"\t0.0145\n",
      "\"61 [topic: 8]\"\t0.0144\n",
      "\"52 [topic: 1]\"\t0.0143\n"
     ]
    },
    {
     "name": "stderr",
     "output_type": "stream",
     "text": [
      "no configs found; falling back on auto-configuration\n",
      "no configs found; falling back on auto-configuration\n",
      "creating tmp directory c:\\temp\\topic_specific_topN.kuanlin.20160315.004503.988000\n",
      "\n",
      "PLEASE NOTE: Starting in mrjob v0.5.0, protocols will be strict by default. It's recommended you run your job with --strict-protocols or set up mrjob.conf as described at https://pythonhosted.org/mrjob/whats-new.html#ready-for-strict-protocols\n",
      "\n",
      "writing to c:\\temp\\topic_specific_topN.kuanlin.20160315.004503.988000\\step-0-mapper_part-00000\n",
      "Counters from step 1:\n",
      "  (no counters found)\n",
      "writing to c:\\temp\\topic_specific_topN.kuanlin.20160315.004503.988000\\step-0-mapper-sorted\n",
      "> sort 'c:\\temp\\topic_specific_topN.kuanlin.20160315.004503.988000\\step-0-mapper_part-00000'\n",
      "writing to c:\\temp\\topic_specific_topN.kuanlin.20160315.004503.988000\\step-0-reducer_part-00000\n",
      "Counters from step 1:\n",
      "  (no counters found)\n",
      "Moving c:\\temp\\topic_specific_topN.kuanlin.20160315.004503.988000\\step-0-reducer_part-00000 -> c:\\temp\\topic_specific_topN.kuanlin.20160315.004503.988000\\output\\part-00000\n",
      "Streaming final output from c:\\temp\\topic_specific_topN.kuanlin.20160315.004503.988000\\output\n",
      "removing tmp directory c:\\temp\\topic_specific_topN.kuanlin.20160315.004503.988000\n"
     ]
    }
   ],
   "source": [
    "# No topic weightage\n",
    "!python topic_specific_topN.py TopicSpecificPageRanks\\\\no_topic\\\\final --file randNet_topics.txt"
   ]
  },
  {
   "cell_type": "code",
   "execution_count": 38,
   "metadata": {
    "collapsed": false
   },
   "outputs": [
    {
     "name": "stdout",
     "output_type": "stream",
     "text": [
      "\"77 [topic: 1]\"\t0.0206\n",
      "\"32 [topic: 1]\"\t0.0206\n",
      "\"52 [topic: 1]\"\t0.0198\n",
      "\"92 [topic: 1]\"\t0.0195\n",
      "\"10 [topic: 1]\"\t0.0186\n",
      "\"27 [topic: 1]\"\t0.0185\n",
      "\"85 [topic: 7]\"\t0.0179\n",
      "\"98 [topic: 1]\"\t0.0177\n",
      "\"46 [topic: 1]\"\t0.0175\n",
      "\"74 [topic: 10]\"\t0.016\n"
     ]
    },
    {
     "name": "stderr",
     "output_type": "stream",
     "text": [
      "no configs found; falling back on auto-configuration\n",
      "no configs found; falling back on auto-configuration\n",
      "creating tmp directory c:\\temp\\topic_specific_topN.kuanlin.20160315.004535.027000\n",
      "\n",
      "PLEASE NOTE: Starting in mrjob v0.5.0, protocols will be strict by default. It's recommended you run your job with --strict-protocols or set up mrjob.conf as described at https://pythonhosted.org/mrjob/whats-new.html#ready-for-strict-protocols\n",
      "\n",
      "writing to c:\\temp\\topic_specific_topN.kuanlin.20160315.004535.027000\\step-0-mapper_part-00000\n",
      "Counters from step 1:\n",
      "  (no counters found)\n",
      "writing to c:\\temp\\topic_specific_topN.kuanlin.20160315.004535.027000\\step-0-mapper-sorted\n",
      "> sort 'c:\\temp\\topic_specific_topN.kuanlin.20160315.004535.027000\\step-0-mapper_part-00000'\n",
      "writing to c:\\temp\\topic_specific_topN.kuanlin.20160315.004535.027000\\step-0-reducer_part-00000\n",
      "Counters from step 1:\n",
      "  (no counters found)\n",
      "Moving c:\\temp\\topic_specific_topN.kuanlin.20160315.004535.027000\\step-0-reducer_part-00000 -> c:\\temp\\topic_specific_topN.kuanlin.20160315.004535.027000\\output\\part-00000\n",
      "Streaming final output from c:\\temp\\topic_specific_topN.kuanlin.20160315.004535.027000\\output\n",
      "removing tmp directory c:\\temp\\topic_specific_topN.kuanlin.20160315.004535.027000\n"
     ]
    }
   ],
   "source": [
    "# topic 1\n",
    "!python topic_specific_topN.py TopicSpecificPageRanks\\\\topic1\\\\final --file randNet_topics.txt"
   ]
  },
  {
   "cell_type": "code",
   "execution_count": 39,
   "metadata": {
    "collapsed": false
   },
   "outputs": [
    {
     "name": "stdout",
     "output_type": "stream",
     "text": [
      "\"58 [topic: 2]\"\t0.0309\n",
      "\"71 [topic: 2]\"\t0.0297\n",
      "\"9 [topic: 2]\"\t0.0293\n",
      "\"73 [topic: 2]\"\t0.0289\n",
      "\"12 [topic: 2]\"\t0.0269\n",
      "\"59 [topic: 2]\"\t0.0258\n",
      "\"75 [topic: 2]\"\t0.0249\n",
      "\"82 [topic: 2]\"\t0.0229\n",
      "\"52 [topic: 1]\"\t0.0163\n",
      "\"17 [topic: 10]\"\t0.0151\n"
     ]
    },
    {
     "name": "stderr",
     "output_type": "stream",
     "text": [
      "no configs found; falling back on auto-configuration\n",
      "no configs found; falling back on auto-configuration\n",
      "creating tmp directory c:\\temp\\topic_specific_topN.kuanlin.20160315.004554.412000\n",
      "\n",
      "PLEASE NOTE: Starting in mrjob v0.5.0, protocols will be strict by default. It's recommended you run your job with --strict-protocols or set up mrjob.conf as described at https://pythonhosted.org/mrjob/whats-new.html#ready-for-strict-protocols\n",
      "\n",
      "writing to c:\\temp\\topic_specific_topN.kuanlin.20160315.004554.412000\\step-0-mapper_part-00000\n",
      "Counters from step 1:\n",
      "  (no counters found)\n",
      "writing to c:\\temp\\topic_specific_topN.kuanlin.20160315.004554.412000\\step-0-mapper-sorted\n",
      "> sort 'c:\\temp\\topic_specific_topN.kuanlin.20160315.004554.412000\\step-0-mapper_part-00000'\n",
      "writing to c:\\temp\\topic_specific_topN.kuanlin.20160315.004554.412000\\step-0-reducer_part-00000\n",
      "Counters from step 1:\n",
      "  (no counters found)\n",
      "Moving c:\\temp\\topic_specific_topN.kuanlin.20160315.004554.412000\\step-0-reducer_part-00000 -> c:\\temp\\topic_specific_topN.kuanlin.20160315.004554.412000\\output\\part-00000\n",
      "Streaming final output from c:\\temp\\topic_specific_topN.kuanlin.20160315.004554.412000\\output\n",
      "removing tmp directory c:\\temp\\topic_specific_topN.kuanlin.20160315.004554.412000\n"
     ]
    }
   ],
   "source": [
    "# topic 2\n",
    "!python topic_specific_topN.py TopicSpecificPageRanks\\\\topic2\\\\final --file randNet_topics.txt"
   ]
  },
  {
   "cell_type": "code",
   "execution_count": 40,
   "metadata": {
    "collapsed": false
   },
   "outputs": [
    {
     "name": "stdout",
     "output_type": "stream",
     "text": [
      "\"15 [topic: 3]\"\t0.0315\n",
      "\"70 [topic: 3]\"\t0.027\n",
      "\"86 [topic: 3]\"\t0.0265\n",
      "\"91 [topic: 3]\"\t0.0245\n",
      "\"66 [topic: 3]\"\t0.0241\n",
      "\"2 [topic: 3]\"\t0.0237\n",
      "\"31 [topic: 3]\"\t0.0228\n",
      "\"40 [topic: 3]\"\t0.0222\n",
      "\"20 [topic: 3]\"\t0.0197\n",
      "\"74 [topic: 10]\"\t0.0159\n"
     ]
    },
    {
     "name": "stderr",
     "output_type": "stream",
     "text": [
      "no configs found; falling back on auto-configuration\n",
      "no configs found; falling back on auto-configuration\n",
      "creating tmp directory c:\\temp\\topic_specific_topN.kuanlin.20160315.004604.216000\n",
      "\n",
      "PLEASE NOTE: Starting in mrjob v0.5.0, protocols will be strict by default. It's recommended you run your job with --strict-protocols or set up mrjob.conf as described at https://pythonhosted.org/mrjob/whats-new.html#ready-for-strict-protocols\n",
      "\n",
      "writing to c:\\temp\\topic_specific_topN.kuanlin.20160315.004604.216000\\step-0-mapper_part-00000\n",
      "Counters from step 1:\n",
      "  (no counters found)\n",
      "writing to c:\\temp\\topic_specific_topN.kuanlin.20160315.004604.216000\\step-0-mapper-sorted\n",
      "> sort 'c:\\temp\\topic_specific_topN.kuanlin.20160315.004604.216000\\step-0-mapper_part-00000'\n",
      "writing to c:\\temp\\topic_specific_topN.kuanlin.20160315.004604.216000\\step-0-reducer_part-00000\n",
      "Counters from step 1:\n",
      "  (no counters found)\n",
      "Moving c:\\temp\\topic_specific_topN.kuanlin.20160315.004604.216000\\step-0-reducer_part-00000 -> c:\\temp\\topic_specific_topN.kuanlin.20160315.004604.216000\\output\\part-00000\n",
      "Streaming final output from c:\\temp\\topic_specific_topN.kuanlin.20160315.004604.216000\\output\n",
      "removing tmp directory c:\\temp\\topic_specific_topN.kuanlin.20160315.004604.216000\n"
     ]
    }
   ],
   "source": [
    "# topic 3\n",
    "!python topic_specific_topN.py TopicSpecificPageRanks\\\\topic3\\\\final --file randNet_topics.txt"
   ]
  },
  {
   "cell_type": "code",
   "execution_count": 41,
   "metadata": {
    "collapsed": false
   },
   "outputs": [
    {
     "name": "stdout",
     "output_type": "stream",
     "text": [
      "\"63 [topic: 4]\"\t0.0262\n",
      "\"83 [topic: 4]\"\t0.0218\n",
      "\"65 [topic: 4]\"\t0.0206\n",
      "\"78 [topic: 4]\"\t0.0202\n",
      "\"41 [topic: 4]\"\t0.0199\n",
      "\"84 [topic: 4]\"\t0.0195\n",
      "\"79 [topic: 4]\"\t0.0184\n",
      "\"38 [topic: 4]\"\t0.0175\n",
      "\"15 [topic: 3]\"\t0.0168\n",
      "\"72 [topic: 4]\"\t0.0167\n"
     ]
    },
    {
     "name": "stderr",
     "output_type": "stream",
     "text": [
      "no configs found; falling back on auto-configuration\n",
      "no configs found; falling back on auto-configuration\n",
      "creating tmp directory c:\\temp\\topic_specific_topN.kuanlin.20160315.004613.098000\n",
      "\n",
      "PLEASE NOTE: Starting in mrjob v0.5.0, protocols will be strict by default. It's recommended you run your job with --strict-protocols or set up mrjob.conf as described at https://pythonhosted.org/mrjob/whats-new.html#ready-for-strict-protocols\n",
      "\n",
      "writing to c:\\temp\\topic_specific_topN.kuanlin.20160315.004613.098000\\step-0-mapper_part-00000\n",
      "Counters from step 1:\n",
      "  (no counters found)\n",
      "writing to c:\\temp\\topic_specific_topN.kuanlin.20160315.004613.098000\\step-0-mapper-sorted\n",
      "> sort 'c:\\temp\\topic_specific_topN.kuanlin.20160315.004613.098000\\step-0-mapper_part-00000'\n",
      "writing to c:\\temp\\topic_specific_topN.kuanlin.20160315.004613.098000\\step-0-reducer_part-00000\n",
      "Counters from step 1:\n",
      "  (no counters found)\n",
      "Moving c:\\temp\\topic_specific_topN.kuanlin.20160315.004613.098000\\step-0-reducer_part-00000 -> c:\\temp\\topic_specific_topN.kuanlin.20160315.004613.098000\\output\\part-00000\n",
      "Streaming final output from c:\\temp\\topic_specific_topN.kuanlin.20160315.004613.098000\\output\n",
      "removing tmp directory c:\\temp\\topic_specific_topN.kuanlin.20160315.004613.098000\n"
     ]
    }
   ],
   "source": [
    "# topic 4\n",
    "!python topic_specific_topN.py TopicSpecificPageRanks\\\\topic4\\\\final --file randNet_topics.txt"
   ]
  },
  {
   "cell_type": "code",
   "execution_count": 42,
   "metadata": {
    "collapsed": false
   },
   "outputs": [
    {
     "name": "stdout",
     "output_type": "stream",
     "text": [
      "\"99 [topic: 5]\"\t0.029\n",
      "\"90 [topic: 5]\"\t0.0284\n",
      "\"88 [topic: 5]\"\t0.0272\n",
      "\"51 [topic: 5]\"\t0.0269\n",
      "\"45 [topic: 5]\"\t0.0256\n",
      "\"5 [topic: 5]\"\t0.0239\n",
      "\"34 [topic: 5]\"\t0.0239\n",
      "\"4 [topic: 5]\"\t0.0234\n",
      "\"80 [topic: 5]\"\t0.0229\n",
      "\"100 [topic: 8]\"\t0.0168\n"
     ]
    },
    {
     "name": "stderr",
     "output_type": "stream",
     "text": [
      "no configs found; falling back on auto-configuration\n",
      "no configs found; falling back on auto-configuration\n",
      "creating tmp directory c:\\temp\\topic_specific_topN.kuanlin.20160315.004624.738000\n",
      "\n",
      "PLEASE NOTE: Starting in mrjob v0.5.0, protocols will be strict by default. It's recommended you run your job with --strict-protocols or set up mrjob.conf as described at https://pythonhosted.org/mrjob/whats-new.html#ready-for-strict-protocols\n",
      "\n",
      "writing to c:\\temp\\topic_specific_topN.kuanlin.20160315.004624.738000\\step-0-mapper_part-00000\n",
      "Counters from step 1:\n",
      "  (no counters found)\n",
      "writing to c:\\temp\\topic_specific_topN.kuanlin.20160315.004624.738000\\step-0-mapper-sorted\n",
      "> sort 'c:\\temp\\topic_specific_topN.kuanlin.20160315.004624.738000\\step-0-mapper_part-00000'\n",
      "writing to c:\\temp\\topic_specific_topN.kuanlin.20160315.004624.738000\\step-0-reducer_part-00000\n",
      "Counters from step 1:\n",
      "  (no counters found)\n",
      "Moving c:\\temp\\topic_specific_topN.kuanlin.20160315.004624.738000\\step-0-reducer_part-00000 -> c:\\temp\\topic_specific_topN.kuanlin.20160315.004624.738000\\output\\part-00000\n",
      "Streaming final output from c:\\temp\\topic_specific_topN.kuanlin.20160315.004624.738000\\output\n",
      "removing tmp directory c:\\temp\\topic_specific_topN.kuanlin.20160315.004624.738000\n"
     ]
    }
   ],
   "source": [
    "# topic 5\n",
    "!python topic_specific_topN.py TopicSpecificPageRanks\\\\topic5\\\\final --file randNet_topics.txt"
   ]
  },
  {
   "cell_type": "code",
   "execution_count": 43,
   "metadata": {
    "collapsed": false
   },
   "outputs": [
    {
     "name": "stdout",
     "output_type": "stream",
     "text": [
      "\"13 [topic: 6]\"\t0.0346\n",
      "\"56 [topic: 6]\"\t0.0328\n",
      "\"37 [topic: 6]\"\t0.0318\n",
      "\"11 [topic: 6]\"\t0.0314\n",
      "\"69 [topic: 6]\"\t0.0301\n",
      "\"23 [topic: 6]\"\t0.0283\n",
      "\"15 [topic: 3]\"\t0.0173\n",
      "\"85 [topic: 7]\"\t0.017\n",
      "\"52 [topic: 1]\"\t0.0166\n",
      "\"74 [topic: 10]\"\t0.0155\n"
     ]
    },
    {
     "name": "stderr",
     "output_type": "stream",
     "text": [
      "no configs found; falling back on auto-configuration\n",
      "no configs found; falling back on auto-configuration\n",
      "creating tmp directory c:\\temp\\topic_specific_topN.kuanlin.20160315.004645.243000\n",
      "\n",
      "PLEASE NOTE: Starting in mrjob v0.5.0, protocols will be strict by default. It's recommended you run your job with --strict-protocols or set up mrjob.conf as described at https://pythonhosted.org/mrjob/whats-new.html#ready-for-strict-protocols\n",
      "\n",
      "writing to c:\\temp\\topic_specific_topN.kuanlin.20160315.004645.243000\\step-0-mapper_part-00000\n",
      "Counters from step 1:\n",
      "  (no counters found)\n",
      "writing to c:\\temp\\topic_specific_topN.kuanlin.20160315.004645.243000\\step-0-mapper-sorted\n",
      "> sort 'c:\\temp\\topic_specific_topN.kuanlin.20160315.004645.243000\\step-0-mapper_part-00000'\n",
      "writing to c:\\temp\\topic_specific_topN.kuanlin.20160315.004645.243000\\step-0-reducer_part-00000\n",
      "Counters from step 1:\n",
      "  (no counters found)\n",
      "Moving c:\\temp\\topic_specific_topN.kuanlin.20160315.004645.243000\\step-0-reducer_part-00000 -> c:\\temp\\topic_specific_topN.kuanlin.20160315.004645.243000\\output\\part-00000\n",
      "Streaming final output from c:\\temp\\topic_specific_topN.kuanlin.20160315.004645.243000\\output\n",
      "removing tmp directory c:\\temp\\topic_specific_topN.kuanlin.20160315.004645.243000\n"
     ]
    }
   ],
   "source": [
    "# topic 6\n",
    "!python topic_specific_topN.py TopicSpecificPageRanks\\\\topic6\\\\final --file randNet_topics.txt"
   ]
  },
  {
   "cell_type": "code",
   "execution_count": 44,
   "metadata": {
    "collapsed": false
   },
   "outputs": [
    {
     "name": "stdout",
     "output_type": "stream",
     "text": [
      "\"85 [topic: 7]\"\t0.0268\n",
      "\"25 [topic: 7]\"\t0.0266\n",
      "\"53 [topic: 7]\"\t0.0248\n",
      "\"28 [topic: 7]\"\t0.0248\n",
      "\"35 [topic: 7]\"\t0.0242\n",
      "\"97 [topic: 7]\"\t0.0234\n",
      "\"47 [topic: 7]\"\t0.0228\n",
      "\"55 [topic: 7]\"\t0.0226\n",
      "\"30 [topic: 7]\"\t0.0222\n",
      "\"50 [topic: 7]\"\t0.0201\n"
     ]
    },
    {
     "name": "stderr",
     "output_type": "stream",
     "text": [
      "no configs found; falling back on auto-configuration\n",
      "no configs found; falling back on auto-configuration\n",
      "creating tmp directory c:\\temp\\topic_specific_topN.kuanlin.20160315.004653.422000\n",
      "\n",
      "PLEASE NOTE: Starting in mrjob v0.5.0, protocols will be strict by default. It's recommended you run your job with --strict-protocols or set up mrjob.conf as described at https://pythonhosted.org/mrjob/whats-new.html#ready-for-strict-protocols\n",
      "\n",
      "writing to c:\\temp\\topic_specific_topN.kuanlin.20160315.004653.422000\\step-0-mapper_part-00000\n",
      "Counters from step 1:\n",
      "  (no counters found)\n",
      "writing to c:\\temp\\topic_specific_topN.kuanlin.20160315.004653.422000\\step-0-mapper-sorted\n",
      "> sort 'c:\\temp\\topic_specific_topN.kuanlin.20160315.004653.422000\\step-0-mapper_part-00000'\n",
      "writing to c:\\temp\\topic_specific_topN.kuanlin.20160315.004653.422000\\step-0-reducer_part-00000\n",
      "Counters from step 1:\n",
      "  (no counters found)\n",
      "Moving c:\\temp\\topic_specific_topN.kuanlin.20160315.004653.422000\\step-0-reducer_part-00000 -> c:\\temp\\topic_specific_topN.kuanlin.20160315.004653.422000\\output\\part-00000\n",
      "Streaming final output from c:\\temp\\topic_specific_topN.kuanlin.20160315.004653.422000\\output\n",
      "removing tmp directory c:\\temp\\topic_specific_topN.kuanlin.20160315.004653.422000\n"
     ]
    }
   ],
   "source": [
    "# topic 7\n",
    "!python topic_specific_topN.py TopicSpecificPageRanks\\\\topic7\\\\final --file randNet_topics.txt"
   ]
  },
  {
   "cell_type": "code",
   "execution_count": 45,
   "metadata": {
    "collapsed": false
   },
   "outputs": [
    {
     "name": "stdout",
     "output_type": "stream",
     "text": [
      "\"100 [topic: 8]\"\t0.0329\n",
      "\"61 [topic: 8]\"\t0.0279\n",
      "\"8 [topic: 8]\"\t0.0272\n",
      "\"39 [topic: 8]\"\t0.0272\n",
      "\"87 [topic: 8]\"\t0.0253\n",
      "\"62 [topic: 8]\"\t0.0253\n",
      "\"6 [topic: 8]\"\t0.0236\n",
      "\"54 [topic: 8]\"\t0.0229\n",
      "\"18 [topic: 8]\"\t0.0207\n",
      "\"9 [topic: 2]\"\t0.0154\n"
     ]
    },
    {
     "name": "stderr",
     "output_type": "stream",
     "text": [
      "no configs found; falling back on auto-configuration\n",
      "no configs found; falling back on auto-configuration\n",
      "creating tmp directory c:\\temp\\topic_specific_topN.kuanlin.20160315.004703.556000\n",
      "\n",
      "PLEASE NOTE: Starting in mrjob v0.5.0, protocols will be strict by default. It's recommended you run your job with --strict-protocols or set up mrjob.conf as described at https://pythonhosted.org/mrjob/whats-new.html#ready-for-strict-protocols\n",
      "\n",
      "writing to c:\\temp\\topic_specific_topN.kuanlin.20160315.004703.556000\\step-0-mapper_part-00000\n",
      "Counters from step 1:\n",
      "  (no counters found)\n",
      "writing to c:\\temp\\topic_specific_topN.kuanlin.20160315.004703.556000\\step-0-mapper-sorted\n",
      "> sort 'c:\\temp\\topic_specific_topN.kuanlin.20160315.004703.556000\\step-0-mapper_part-00000'\n",
      "writing to c:\\temp\\topic_specific_topN.kuanlin.20160315.004703.556000\\step-0-reducer_part-00000\n",
      "Counters from step 1:\n",
      "  (no counters found)\n",
      "Moving c:\\temp\\topic_specific_topN.kuanlin.20160315.004703.556000\\step-0-reducer_part-00000 -> c:\\temp\\topic_specific_topN.kuanlin.20160315.004703.556000\\output\\part-00000\n",
      "Streaming final output from c:\\temp\\topic_specific_topN.kuanlin.20160315.004703.556000\\output\n",
      "removing tmp directory c:\\temp\\topic_specific_topN.kuanlin.20160315.004703.556000\n"
     ]
    }
   ],
   "source": [
    "# topic 8\n",
    "!python topic_specific_topN.py TopicSpecificPageRanks\\\\topic8\\\\final --file randNet_topics.txt"
   ]
  },
  {
   "cell_type": "code",
   "execution_count": 46,
   "metadata": {
    "collapsed": false
   },
   "outputs": [
    {
     "name": "stdout",
     "output_type": "stream",
     "text": [
      "\"94 [topic: 9]\"\t0.0302\n",
      "\"14 [topic: 9]\"\t0.0295\n",
      "\"42 [topic: 9]\"\t0.0292\n",
      "\"21 [topic: 9]\"\t0.0284\n",
      "\"57 [topic: 9]\"\t0.0274\n",
      "\"96 [topic: 9]\"\t0.0262\n",
      "\"24 [topic: 9]\"\t0.0258\n",
      "\"63 [topic: 4]\"\t0.0172\n",
      "\"61 [topic: 8]\"\t0.0163\n",
      "\"74 [topic: 10]\"\t0.0143\n"
     ]
    },
    {
     "name": "stderr",
     "output_type": "stream",
     "text": [
      "no configs found; falling back on auto-configuration\n",
      "no configs found; falling back on auto-configuration\n",
      "creating tmp directory c:\\temp\\topic_specific_topN.kuanlin.20160315.004712.382000\n",
      "\n",
      "PLEASE NOTE: Starting in mrjob v0.5.0, protocols will be strict by default. It's recommended you run your job with --strict-protocols or set up mrjob.conf as described at https://pythonhosted.org/mrjob/whats-new.html#ready-for-strict-protocols\n",
      "\n",
      "writing to c:\\temp\\topic_specific_topN.kuanlin.20160315.004712.382000\\step-0-mapper_part-00000\n",
      "Counters from step 1:\n",
      "  (no counters found)\n",
      "writing to c:\\temp\\topic_specific_topN.kuanlin.20160315.004712.382000\\step-0-mapper-sorted\n",
      "> sort 'c:\\temp\\topic_specific_topN.kuanlin.20160315.004712.382000\\step-0-mapper_part-00000'\n",
      "writing to c:\\temp\\topic_specific_topN.kuanlin.20160315.004712.382000\\step-0-reducer_part-00000\n",
      "Counters from step 1:\n",
      "  (no counters found)\n",
      "Moving c:\\temp\\topic_specific_topN.kuanlin.20160315.004712.382000\\step-0-reducer_part-00000 -> c:\\temp\\topic_specific_topN.kuanlin.20160315.004712.382000\\output\\part-00000\n",
      "Streaming final output from c:\\temp\\topic_specific_topN.kuanlin.20160315.004712.382000\\output\n",
      "removing tmp directory c:\\temp\\topic_specific_topN.kuanlin.20160315.004712.382000\n"
     ]
    }
   ],
   "source": [
    "# topic 9\n",
    "!python topic_specific_topN.py TopicSpecificPageRanks\\\\topic9\\\\final --file randNet_topics.txt"
   ]
  },
  {
   "cell_type": "code",
   "execution_count": 47,
   "metadata": {
    "collapsed": false
   },
   "outputs": [
    {
     "name": "stdout",
     "output_type": "stream",
     "text": [
      "\"74 [topic: 10]\"\t0.0263\n",
      "\"49 [topic: 10]\"\t0.0236\n",
      "\"17 [topic: 10]\"\t0.0236\n",
      "\"95 [topic: 10]\"\t0.0206\n",
      "\"7 [topic: 10]\"\t0.0199\n",
      "\"43 [topic: 10]\"\t0.0193\n",
      "\"68 [topic: 10]\"\t0.0191\n",
      "\"48 [topic: 10]\"\t0.019\n",
      "\"1 [topic: 10]\"\t0.019\n",
      "\"3 [topic: 10]\"\t0.0187\n"
     ]
    },
    {
     "name": "stderr",
     "output_type": "stream",
     "text": [
      "no configs found; falling back on auto-configuration\n",
      "no configs found; falling back on auto-configuration\n",
      "creating tmp directory c:\\temp\\topic_specific_topN.kuanlin.20160315.004722.244000\n",
      "\n",
      "PLEASE NOTE: Starting in mrjob v0.5.0, protocols will be strict by default. It's recommended you run your job with --strict-protocols or set up mrjob.conf as described at https://pythonhosted.org/mrjob/whats-new.html#ready-for-strict-protocols\n",
      "\n",
      "writing to c:\\temp\\topic_specific_topN.kuanlin.20160315.004722.244000\\step-0-mapper_part-00000\n",
      "Counters from step 1:\n",
      "  (no counters found)\n",
      "writing to c:\\temp\\topic_specific_topN.kuanlin.20160315.004722.244000\\step-0-mapper-sorted\n",
      "> sort 'c:\\temp\\topic_specific_topN.kuanlin.20160315.004722.244000\\step-0-mapper_part-00000'\n",
      "writing to c:\\temp\\topic_specific_topN.kuanlin.20160315.004722.244000\\step-0-reducer_part-00000\n",
      "Counters from step 1:\n",
      "  (no counters found)\n",
      "Moving c:\\temp\\topic_specific_topN.kuanlin.20160315.004722.244000\\step-0-reducer_part-00000 -> c:\\temp\\topic_specific_topN.kuanlin.20160315.004722.244000\\output\\part-00000\n",
      "Streaming final output from c:\\temp\\topic_specific_topN.kuanlin.20160315.004722.244000\\output\n",
      "removing tmp directory c:\\temp\\topic_specific_topN.kuanlin.20160315.004722.244000\n"
     ]
    }
   ],
   "source": [
    "# topic 10\n",
    "!python topic_specific_topN.py TopicSpecificPageRanks\\\\topic10\\\\final --file randNet_topics.txt"
   ]
  },
  {
   "cell_type": "markdown",
   "metadata": {},
   "source": [
    "#### General Discussion\n",
    "\n",
    "The topic-specific PageRank works very well, resulting preferentially higher rankings for nodes belonging to the specific topic.\n",
    "\n",
    "To implement the exact logic in the paper (removing non-reachable nodes per topic) requires one additional mapper step for each topic to pre-screen feasible nodes, and write the intermediate result out to storage since it would be impossible to store the real-life networks in memory.  This would obviously more inefficient and more costly then what we did in the code above."
   ]
  },
  {
   "cell_type": "code",
   "execution_count": null,
   "metadata": {
    "collapsed": true
   },
   "outputs": [],
   "source": []
  }
 ],
 "metadata": {
  "kernelspec": {
   "display_name": "Python 2",
   "language": "python",
   "name": "python2"
  },
  "language_info": {
   "codemirror_mode": {
    "name": "ipython",
    "version": 2
   },
   "file_extension": ".py",
   "mimetype": "text/x-python",
   "name": "python",
   "nbconvert_exporter": "python",
   "pygments_lexer": "ipython2",
   "version": "2.7.5"
  }
 },
 "nbformat": 4,
 "nbformat_minor": 0
}
